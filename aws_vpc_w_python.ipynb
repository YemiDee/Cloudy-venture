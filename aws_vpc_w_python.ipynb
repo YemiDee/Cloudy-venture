{
 "cells": [
  {
   "cell_type": "markdown",
   "metadata": {},
   "source": [
    "## AWS Virtual Private Cloud provisioning with Python"
   ]
  },
  {
   "cell_type": "markdown",
   "metadata": {},
   "source": [
    "Python codes below detailed the provisioning of a VPC in AWS. Having done same on Terraform, I decided to take a stab using Python's Boto3 module, which is the module that allows provisioning AWS infrastures like Terraform does. It was hard finding a comprehensive notebook out there, just bits and bytes. Took me about 2 weeks to build most of the code from scratch, except for the aws_vpc_destroy code which I got from a github profile (https://github.com/jeffbrl/aws-vpc-destroy) and still made slight modification to fit my infrastructural set up.\n",
    "\n",
    "To run this code, ensure you have aws cli profile set up in your computer, also ensure you have the aws-vpc-destroy.py file in the same directory as this python code. Some of the modular dependencies also need to be installed in your computer if you run into errors.\n",
    "\n",
    "Safe to say this code is ~90% complete, minor modifications may be made over time."
   ]
  },
  {
   "cell_type": "markdown",
   "metadata": {},
   "source": [
    "## First import your modular dependencies "
   ]
  },
  {
   "cell_type": "code",
   "execution_count": 78,
   "metadata": {},
   "outputs": [],
   "source": [
    "#First import your modular dependencies \n",
    "\n",
    "import logging\n",
    "import boto3\n",
    "import boto3.session\n",
    "from datetime import date, datetime\n",
    "from botocore.exceptions import ClientError\n",
    "import json\n",
    "import sys\n",
    "import time\n",
    "import os\n",
    "import argparse\n",
    "import aws_vpc_destroy as destroy\n",
    "import pandas as pd\n",
    "\n",
    "# Link to boto3 documentation below \n",
    "# http://boto3.readthedocs.io/en/latest/reference/services/ec2.html#service-resource\n",
    "# The documentation is not as intuitive as Terraform's documentation, my python experience \n",
    "# helped me in some aspects, coupled with google\n",
    "\n",
    "#initialize ec2 resource, client \n",
    "ec2 = boto3.resource('ec2')\n",
    "client = boto3.client('ec2')\n",
    "\n",
    "#or\n",
    "#session = boto3.session.Session()\n",
    "\n",
    "# logger configuration\n",
    "logger = logging.getLogger()\n",
    "logging.basicConfig(level=logging.INFO,\n",
    "                    format='%(asctime)s: %(levelname)s: %(message)s')"
   ]
  },
  {
   "cell_type": "code",
   "execution_count": 79,
   "metadata": {},
   "outputs": [],
   "source": [
    "#be sure to assign your region\n",
    "#and VPC cidr block\n",
    "\n",
    "REGION = \"us-east-1\"\n",
    "cidr_block = '10.0.0.0/16'"
   ]
  },
  {
   "cell_type": "markdown",
   "metadata": {},
   "source": [
    "## Create VPC"
   ]
  },
  {
   "cell_type": "code",
   "execution_count": 80,
   "metadata": {},
   "outputs": [
    {
     "name": "stdout",
     "output_type": "stream",
     "text": [
      "vpc-03041b00327f8cb8c\n"
     ]
    }
   ],
   "source": [
    "# create the VPC inserting cidr block defined above\n",
    "vpc = ec2.create_vpc(CidrBlock=cidr_block)\n",
    "\n",
    "# we can assign a name to vpc, or any resource, by using tag\n",
    "vpc.create_tags(Tags=[{\"Key\": \"Name\", \"Value\": \"python-vpc\"}])\n",
    "vpc.wait_until_available()     #waiting until available\n",
    "\n",
    "print(vpc.id)"
   ]
  },
  {
   "cell_type": "code",
   "execution_count": 81,
   "metadata": {},
   "outputs": [],
   "source": [
    "# Code below also creates a vpc (alternative to the above)\n",
    "# ec2_client = session.client('ec2', REGION)\n",
    "# ec2_resource = session.resource('ec2', REGION)\n",
    "# create_vpc_response = ec2_client.create_vpc(CidrBlock=cidr_block)\n",
    "# vpc = ec2_resource.Vpc(create_vpc_response[\"Vpc\"][\"VpcId\"])"
   ]
  },
  {
   "cell_type": "markdown",
   "metadata": {},
   "source": [
    "## Creating the Internet Gateway"
   ]
  },
  {
   "cell_type": "code",
   "execution_count": 82,
   "metadata": {},
   "outputs": [
    {
     "name": "stdout",
     "output_type": "stream",
     "text": [
      "igw-0031ae9b07687062e\n"
     ]
    }
   ],
   "source": [
    "# create an internet gateway and attach same to your vpc\n",
    "igw = ec2.create_internet_gateway()\n",
    "igw.create_tags(Tags=[{\"Key\": \"Name\", \"Value\": \"python-vpc-igw\"}])\n",
    "#attach to vpc using the gateway id\n",
    "vpc.attach_internet_gateway(InternetGatewayId=igw.id)\n",
    "print(igw.id)\n",
    "\n",
    "#create_internet_gateway also returns a dictionary\n",
    "# create_ig_response = ec2_client.create_internet_gateway()\n",
    "# ig_id = create_ig_response[\"InternetGateway\"][\"InternetGatewayId\"]"
   ]
  },
  {
   "cell_type": "markdown",
   "metadata": {},
   "source": [
    "## Create public and private subnets"
   ]
  },
  {
   "cell_type": "markdown",
   "metadata": {},
   "source": [
    "1. First define a function to create multiple subnets for a high availability case"
   ]
  },
  {
   "cell_type": "code",
   "execution_count": 84,
   "metadata": {},
   "outputs": [],
   "source": [
    "#define a function to create subnets across different azs\n",
    "#this function enables simultaneous creation of subnets\n",
    "\n",
    "def create_public_private_subnets(cidr_list, azs, vpc_id):\n",
    "    \"\"\"input: cidr_block list, availability zones' list and vpc_id\n",
    "    output: list of public and private subnets\"\"\"\n",
    "    #initialize empty list for subnets\n",
    "    subnets = []\n",
    "    #iterate through cidr list to create public and private subnets across \n",
    "    #multiple azs\n",
    "    #if your cidr list contains 40 items\n",
    "    #this function will create 20 public and 20 private subnets with a click\n",
    "    for idx in range(len(cidr_list)):\n",
    "        #because you want a public and private SN to be in same az\n",
    "        #for cidr blocks with even number index, do below\n",
    "        if idx % 2 == 0:\n",
    "            subnet = ec2.create_subnet(CidrBlock=cidr_list[idx], VpcId=vpc_id, \\\n",
    "                AvailabilityZone = azs[0])\n",
    "            subnets.append(subnet)\n",
    "        #if odd number index, do below\n",
    "        elif idx % 2 == 1:\n",
    "            subnet = ec2.create_subnet(CidrBlock=cidr_list[idx], VpcId=vpc_id, \\\n",
    "                AvailabilityZone = azs[1])            \n",
    "            subnets.append(subnet)\n",
    "    #create tags for subnets by iterating\n",
    "    for idx in range(len(subnets)):\n",
    "        if idx % 2 == 0:\n",
    "            subnets[idx].create_tags(Tags=[{\"Key\": \"Name\", \"Value\": \"publicSN_\" + str(idx+1)}])\n",
    "        else:\n",
    "            subnets[idx].create_tags(Tags=[{\"Key\": \"Name\", \"Value\": \"privateSN_\" + str(idx)}])\n",
    "\n",
    "    return subnets\n",
    "\n",
    "\n",
    "#subnet = ec2.create_subnet(CidrBlock='192.168.1.0/24', VpcId=vpc.id)\n",
    "#or \n",
    "#create_subnet can be run directly on the vpc object\n",
    "# subnet = vpc.create_subnet(CidrBlock=subnet_cidr, AvailabilityZone=\"{}{}\".format(REGION, az))"
   ]
  },
  {
   "cell_type": "markdown",
   "metadata": {},
   "source": [
    "2. Call the function to create your subnets"
   ]
  },
  {
   "cell_type": "code",
   "execution_count": 85,
   "metadata": {},
   "outputs": [
    {
     "name": "stdout",
     "output_type": "stream",
     "text": [
      "['subnet-0d86d5399c139f4f6', 'subnet-06fb1a00401245fc8', 'subnet-031d62e879e13f94d', 'subnet-0ffb4387a98ba72db']\n"
     ]
    }
   ],
   "source": [
    "#initialize cidr blocks and azs to assign to subnets \n",
    "cidr_blocks = [\"10.0.1.0/24\", \"10.0.2.0/24\", \"10.0.3.0/24\", \"10.0.4.0/24\"]\n",
    "availability_zones = [\"us-east-1a\", \"us-east-1b\"]\n",
    "\n",
    "#call subnet function \n",
    "subnets = create_public_private_subnets(cidr_blocks, availability_zones, vpc.id)\n",
    "\n",
    "#using a list comprehension create subnet_ids list\n",
    "subnet_ids = [subnet.id for subnet in subnets]\n",
    "\n",
    "#or use commented for loop below to create and print subnet ids\n",
    "#initialize empty list for subnet ids\n",
    "#subnets = []\n",
    "# for subnet in subnets:\n",
    "#     subnet_ids.append(subnet.id)\n",
    "\n",
    "#prints subnet ids list\n",
    "print(subnet_ids)"
   ]
  },
  {
   "cell_type": "markdown",
   "metadata": {},
   "source": [
    "## NAT gateway creation"
   ]
  },
  {
   "cell_type": "markdown",
   "metadata": {},
   "source": [
    "1. First will define a function to wait until NAT gateway is created before advancing to next code block"
   ]
  },
  {
   "cell_type": "code",
   "execution_count": 86,
   "metadata": {},
   "outputs": [],
   "source": [
    "def wait_nat_creation(nat_gateway_id):\n",
    "    \"\"\"\n",
    "    Check if successful state is reached every 15 seconds until a successful state is reached.\n",
    "    An error is returned after 40 failed checks.\n",
    "    \"\"\"\n",
    "    try:\n",
    "        waiter = client.get_waiter('nat_gateway_available')\n",
    "        waiter.wait(NatGatewayIds=[nat_gateway_id])\n",
    "    except ClientError:\n",
    "        logger.exception(f'Could not create the NAT gateway.')\n",
    "        raise"
   ]
  },
  {
   "cell_type": "markdown",
   "metadata": {},
   "source": [
    "2. Create NAT gateway and allocate elastic IP"
   ]
  },
  {
   "cell_type": "code",
   "execution_count": 87,
   "metadata": {},
   "outputs": [],
   "source": [
    "#initialize an elastic ip for your NAT gateway\n",
    "allocation = client.allocate_address(Domain='vpc')\n",
    "\n",
    "#create NAT gateway \n",
    "nat_gw = client.create_nat_gateway(SubnetId=subnets[0].id, AllocationId=allocation['AllocationId'],\n",
    "            TagSpecifications=[{\n",
    "                'ResourceType':\n",
    "                'natgateway',\n",
    "                'Tags': [{\n",
    "                    'Key': 'Name',\n",
    "                    'Value': 'python-nat-gateway'\n",
    "                }]\n",
    "            }])\n",
    "\n",
    "nat_gw_id = nat_gw['NatGateway']['NatGatewayId']\n",
    "\n",
    "# call wait function until nat gateway is created\n",
    "wait_nat_creation(nat_gw_id)"
   ]
  },
  {
   "cell_type": "code",
   "execution_count": 88,
   "metadata": {},
   "outputs": [
    {
     "name": "stdout",
     "output_type": "stream",
     "text": [
      "nat-0a1379f5b02b84a0d\n"
     ]
    }
   ],
   "source": [
    "print(nat_gw_id)"
   ]
  },
  {
   "cell_type": "markdown",
   "metadata": {},
   "source": [
    "## Create route tables and associations"
   ]
  },
  {
   "cell_type": "markdown",
   "metadata": {},
   "source": [
    "1. Define a function to create multiple route tables for a high availability case, alternatively you can use commented code below to create a single route table"
   ]
  },
  {
   "cell_type": "code",
   "execution_count": null,
   "metadata": {},
   "outputs": [],
   "source": [
    "# # create a public route table, this can be used when creating a single route table\n",
    "\n",
    "# public_route_table = vpc.create_route_table()\n",
    "# # and a public route, assign public cidr block and attach to internet gateway created above\n",
    "# route = public_route_table.create_route(\n",
    "#     DestinationCidrBlock='0.0.0.0/0',\n",
    "#     GatewayId=ig.id\n",
    "# )\n",
    "# # associate the route table with the subnet\n",
    "# public_route_table.associate_with_subnet(SubnetId=subnet.id)\n",
    "\n",
    "# print(public_route_table.id)"
   ]
  },
  {
   "cell_type": "markdown",
   "metadata": {},
   "source": [
    "## Code below for multiple route tables\n"
   ]
  },
  {
   "cell_type": "code",
   "execution_count": 89,
   "metadata": {},
   "outputs": [],
   "source": [
    "# define a function to create more than one route table at a time\n",
    "\n",
    "def route_tables(rt_titles, gw_list):\n",
    "    \"\"\"input: cidr_block list, availability zones' list and vpc_id\n",
    "    output: list of public and private subnets\"\"\"\n",
    "    \n",
    "    #initialize empty route table list to collect route_tables\n",
    "    route_tables = []\n",
    "    for idx in range(len(rt_titles)):\n",
    "\n",
    "        title = vpc.create_route_table()\n",
    "\n",
    "        # and a public route, assign public cidr block and attach to internet gateway created above\n",
    "        g_way = gw_list[idx]\n",
    "        #checks if gateway is a dictionary object, this typically applies to NAT-GWs\n",
    "        if type(g_way) is dict:\n",
    "\n",
    "            route = title.create_route(\n",
    "                DestinationCidrBlock='0.0.0.0/0',\n",
    "                GatewayId=g_way['NatGateway']['NatGatewayId']\n",
    "            )\n",
    "        # associate the route table with the subnet\n",
    "        # for idx2 in range(len(rt_titles)):\n",
    "            title.associate_with_subnet(SubnetId=subnets[idx].id)\n",
    "            idx2 = idx + 2\n",
    "            title.associate_with_subnet(SubnetId=subnets[idx2].id)\n",
    "\n",
    "            route_tables.append(title)\n",
    "            \n",
    "        else:\n",
    "            route = title.create_route(\n",
    "                DestinationCidrBlock='0.0.0.0/0',\n",
    "                GatewayId=g_way.id\n",
    "            )\n",
    "        # associate the route table with the subnet\n",
    "        # for idx2 in range(len(rt_titles)):\n",
    "            title.associate_with_subnet(SubnetId=subnets[idx].id)\n",
    "            idx2 = idx + 2\n",
    "            title.associate_with_subnet(SubnetId=subnets[idx2].id)\n",
    "\n",
    "            route_tables.append(title)\n",
    "\n",
    "    #iterate to create tags for route tables\n",
    "    for idx in range(len(route_tables)):\n",
    "        route_tables[idx].create_tags(Tags=[{\"Key\": \"Name\", \"Value\": str(rt_titles[idx])}])\n",
    "\n",
    "    return route_tables\n"
   ]
  },
  {
   "cell_type": "markdown",
   "metadata": {},
   "source": [
    "2. Call the function to create your route tables"
   ]
  },
  {
   "cell_type": "code",
   "execution_count": 90,
   "metadata": {},
   "outputs": [
    {
     "name": "stdout",
     "output_type": "stream",
     "text": [
      "[ec2.RouteTable(id='rtb-0fa403499fd09a499'), ec2.RouteTable(id='rtb-0e0994344e041fc9e')]\n"
     ]
    }
   ],
   "source": [
    "#initialize route table variables\n",
    "rt_titles = [\"public_route_table\", \"private_route_table\"]\n",
    "gws = [igw, nat_gw]\n",
    "\n",
    "#call route table function to create public and private route tables\n",
    "rt_tables = route_tables(rt_titles, gws)\n",
    "\n",
    "#prints a list of route tables\n",
    "print(rt_tables)"
   ]
  },
  {
   "cell_type": "markdown",
   "metadata": {},
   "source": [
    "## Create frontend and backend security groups"
   ]
  },
  {
   "cell_type": "code",
   "execution_count": 91,
   "metadata": {},
   "outputs": [],
   "source": [
    "# Create frontend sec group\n",
    "frontend_sg = ec2.create_security_group(\n",
    "    GroupName='frontend_sg_py_vpc', Description='front end security group', VpcId=vpc.id)"
   ]
  },
  {
   "cell_type": "code",
   "execution_count": 92,
   "metadata": {},
   "outputs": [
    {
     "data": {
      "text/plain": [
       "{'Return': True,\n",
       " 'SecurityGroupRules': [{'SecurityGroupRuleId': 'sgr-05f062aa74aad8d84',\n",
       "   'GroupId': 'sg-0d475baa4ed21b3ac',\n",
       "   'GroupOwnerId': '957171820283',\n",
       "   'IsEgress': False,\n",
       "   'IpProtocol': 'tcp',\n",
       "   'FromPort': 443,\n",
       "   'ToPort': 443,\n",
       "   'CidrIpv4': '0.0.0.0/0'},\n",
       "  {'SecurityGroupRuleId': 'sgr-06a87ebeeaf1f5458',\n",
       "   'GroupId': 'sg-0d475baa4ed21b3ac',\n",
       "   'GroupOwnerId': '957171820283',\n",
       "   'IsEgress': False,\n",
       "   'IpProtocol': 'tcp',\n",
       "   'FromPort': 80,\n",
       "   'ToPort': 80,\n",
       "   'CidrIpv4': '0.0.0.0/0'},\n",
       "  {'SecurityGroupRuleId': 'sgr-09e8b5768738514ef',\n",
       "   'GroupId': 'sg-0d475baa4ed21b3ac',\n",
       "   'GroupOwnerId': '957171820283',\n",
       "   'IsEgress': False,\n",
       "   'IpProtocol': 'tcp',\n",
       "   'FromPort': 22,\n",
       "   'ToPort': 22,\n",
       "   'CidrIpv4': '0.0.0.0/0'}],\n",
       " 'ResponseMetadata': {'RequestId': '8aff4b45-75db-4e3e-9d43-85f86ece3b94',\n",
       "  'HTTPStatusCode': 200,\n",
       "  'HTTPHeaders': {'x-amzn-requestid': '8aff4b45-75db-4e3e-9d43-85f86ece3b94',\n",
       "   'cache-control': 'no-cache, no-store',\n",
       "   'strict-transport-security': 'max-age=31536000; includeSubDomains',\n",
       "   'content-type': 'text/xml;charset=UTF-8',\n",
       "   'content-length': '1531',\n",
       "   'date': 'Sun, 17 Apr 2022 17:58:02 GMT',\n",
       "   'server': 'AmazonEC2'},\n",
       "  'RetryAttempts': 0}}"
      ]
     },
     "execution_count": 92,
     "metadata": {},
     "output_type": "execute_result"
    }
   ],
   "source": [
    "#attach front end security permissions\n",
    "frontend_sg.authorize_ingress(IpPermissions = [\n",
    "    {\n",
    "    'IpProtocol':'tcp',\n",
    "    'FromPort':443,\n",
    "    'ToPort':443,\n",
    "    'IpRanges':[{'CidrIp':'0.0.0.0/0'}]\n",
    "    },\n",
    "    {\n",
    "    'IpProtocol':'tcp',\n",
    "    'FromPort':80,\n",
    "    'ToPort':80,\n",
    "    'IpRanges':[{'CidrIp':'0.0.0.0/0'}]\n",
    "    },\n",
    "    {\n",
    "    'IpProtocol':'tcp',\n",
    "    'FromPort':22,\n",
    "    'ToPort':22,\n",
    "    'IpRanges':[{'CidrIp':'0.0.0.0/0'}]\n",
    "    },\n",
    "]\n",
    ")\n",
    "\n",
    "# frontend_sg.authorize_egress(IpPermissions = [\n",
    "#     {\n",
    "#     'IpProtocol':'-1',\n",
    "#     'FromPort':0,\n",
    "#     'ToPort':0,\n",
    "#     'IpRanges':[{'CidrIp':'0.0.0.0/0'}]\n",
    "#     }\n",
    "# ]\n",
    "# )\n",
    "\n"
   ]
  },
  {
   "cell_type": "code",
   "execution_count": 93,
   "metadata": {},
   "outputs": [],
   "source": [
    "#Create backend security group\n",
    "backend_sg = ec2.create_security_group(\n",
    "    GroupName='backend_sg_py_vpc', Description='back end security group', VpcId=vpc.id)"
   ]
  },
  {
   "cell_type": "code",
   "execution_count": 94,
   "metadata": {},
   "outputs": [
    {
     "data": {
      "text/plain": [
       "{'Return': True,\n",
       " 'SecurityGroupRules': [{'SecurityGroupRuleId': 'sgr-00ab970715d6574f4',\n",
       "   'GroupId': 'sg-0ab553c18f257b7c5',\n",
       "   'GroupOwnerId': '957171820283',\n",
       "   'IsEgress': False,\n",
       "   'IpProtocol': 'tcp',\n",
       "   'FromPort': 3306,\n",
       "   'ToPort': 3306,\n",
       "   'CidrIpv4': '10.0.2.0/24'},\n",
       "  {'SecurityGroupRuleId': 'sgr-0c405962eabb60747',\n",
       "   'GroupId': 'sg-0ab553c18f257b7c5',\n",
       "   'GroupOwnerId': '957171820283',\n",
       "   'IsEgress': False,\n",
       "   'IpProtocol': 'tcp',\n",
       "   'FromPort': 22,\n",
       "   'ToPort': 22,\n",
       "   'CidrIpv4': '10.0.2.0/24'}],\n",
       " 'ResponseMetadata': {'RequestId': '5505d661-4f15-4f77-87e0-2f122ab1a25e',\n",
       "  'HTTPStatusCode': 200,\n",
       "  'HTTPHeaders': {'x-amzn-requestid': '5505d661-4f15-4f77-87e0-2f122ab1a25e',\n",
       "   'cache-control': 'no-cache, no-store',\n",
       "   'strict-transport-security': 'max-age=31536000; includeSubDomains',\n",
       "   'content-type': 'text/xml;charset=UTF-8',\n",
       "   'content-length': '1132',\n",
       "   'date': 'Sun, 17 Apr 2022 17:58:10 GMT',\n",
       "   'server': 'AmazonEC2'},\n",
       "  'RetryAttempts': 0}}"
      ]
     },
     "execution_count": 94,
     "metadata": {},
     "output_type": "execute_result"
    }
   ],
   "source": [
    "##attach back end security permissions\n",
    "\n",
    "backend_sg.authorize_ingress(IpPermissions = [    \n",
    "    {\n",
    "    'IpRanges':[{'CidrIp':\"10.0.1.0/24\", 'CidrIp':\"10.0.2.0/24\"}],\n",
    "    'IpProtocol':'tcp',\n",
    "    'FromPort':3306,\n",
    "    'ToPort':3306\n",
    "    },\n",
    "    {\n",
    "    'IpRanges':[{'CidrIp':\"10.0.1.0/24\", 'CidrIp':\"10.0.2.0/24\"}],\n",
    "    'IpProtocol':'tcp',\n",
    "    'FromPort':22,\n",
    "    'ToPort':22\n",
    "    }\n",
    "]\n",
    ")\n",
    "# egress already created with sec group\n",
    "# backend_sg.authorize_egress(IpPermissions = [\n",
    "#     {    \n",
    "#     'IpRanges':[{'CidrIp':'0.0.0.0/0'}],\n",
    "#     'IpProtocol':'-1',\n",
    "#     'FromPort':0,\n",
    "#     'ToPort':0\n",
    "#     }\n",
    "# ]\n",
    "# )\n"
   ]
  },
  {
   "cell_type": "code",
   "execution_count": 95,
   "metadata": {},
   "outputs": [
    {
     "name": "stdout",
     "output_type": "stream",
     "text": [
      "sg-0d475baa4ed21b3ac sg-0ab553c18f257b7c5\n"
     ]
    }
   ],
   "source": [
    "print(frontend_sg.id, backend_sg.id)"
   ]
  },
  {
   "cell_type": "markdown",
   "metadata": {},
   "source": [
    "## Create S3 bucket and policy"
   ]
  },
  {
   "cell_type": "code",
   "execution_count": 96,
   "metadata": {},
   "outputs": [
    {
     "data": {
      "text/plain": [
       "{'ResponseMetadata': {'RequestId': 'V3PVYBQYG95S3WEK',\n",
       "  'HostId': 'W4ToAwIjbkcJV+ZSxXKx0Ey206vb+HuuzuW8fO/4MMr5HmdkYmyZukk3RXqYQFz3tlxdlv1DZuA=',\n",
       "  'HTTPStatusCode': 204,\n",
       "  'HTTPHeaders': {'x-amz-id-2': 'W4ToAwIjbkcJV+ZSxXKx0Ey206vb+HuuzuW8fO/4MMr5HmdkYmyZukk3RXqYQFz3tlxdlv1DZuA=',\n",
       "   'x-amz-request-id': 'V3PVYBQYG95S3WEK',\n",
       "   'date': 'Sun, 17 Apr 2022 17:58:21 GMT',\n",
       "   'server': 'AmazonS3'},\n",
       "  'RetryAttempts': 0}}"
      ]
     },
     "execution_count": 96,
     "metadata": {},
     "output_type": "execute_result"
    }
   ],
   "source": [
    "# Create a bucket policy\n",
    "bucket_name = 'py-med-bucket'\n",
    "\n",
    "#insert policy\n",
    "bucket_policy = {\n",
    "    'Version': '2012-10-17',\n",
    "    'Statement': [{\n",
    "        'Sid': 'PublicReadGetObject',\n",
    "        'Effect': 'Allow',\n",
    "        'Principal': '*',\n",
    "        'Action': ['s3:GetObject', 's3:GetObjectVersion'],\n",
    "        'Resource': f'arn:aws:s3:::{bucket_name}/*'\n",
    "    }]\n",
    "}\n",
    "\n",
    "# Convert the policy from JSON dict to string\n",
    "bucket_policy = json.dumps(bucket_policy)\n",
    "\n",
    "# Set the new policy and include ACL\n",
    "s3 = boto3.client('s3')\n",
    "s3.create_bucket(Bucket=bucket_name, ACL='public-read')\n",
    "s3.put_bucket_policy(Bucket=bucket_name, Policy=bucket_policy)"
   ]
  },
  {
   "cell_type": "markdown",
   "metadata": {},
   "source": [
    "## Create Apache web server instance with user data"
   ]
  },
  {
   "cell_type": "code",
   "execution_count": null,
   "metadata": {},
   "outputs": [],
   "source": [
    "#use code to creat key if you do not have one\n",
    "# ec2_key = boto3.connect_ec2()\n",
    "# key = ec2_key = boto3.connect_ec2().create_key_pair('mynewkey')\n",
    "# key.save('~/filepath of your choice/')"
   ]
  },
  {
   "cell_type": "markdown",
   "metadata": {},
   "source": [
    "## Initialize Apache and SQL command line scripts"
   ]
  },
  {
   "cell_type": "code",
   "execution_count": 97,
   "metadata": {},
   "outputs": [],
   "source": [
    "APACHE_SCRIPT = \"\"\"#!/bin/bash\n",
    "  #sudo yum update -y\n",
    "  sudo yum install httpd -y\n",
    "  sudo service httpd start\n",
    "  sudo chkconfig httpd on\n",
    "  cd /var/www/html\n",
    "  echo \"<html><h1>This is Apache Web Server 01</h1></html>\" > index.html\n",
    "  sudo yum install mysql -y\n",
    "  \"\"\"\n",
    "\n",
    "SQLDB_SCRIPT = \"\"\"#!/bin/bash\n",
    "sudo yum update -y\n",
    "sudo yum install mysql-server -y\n",
    "sudo service mysqld start\n",
    "\"\"\""
   ]
  },
  {
   "cell_type": "markdown",
   "metadata": {},
   "source": [
    "## Create Apache web server"
   ]
  },
  {
   "cell_type": "code",
   "execution_count": 98,
   "metadata": {},
   "outputs": [
    {
     "name": "stdout",
     "output_type": "stream",
     "text": [
      "i-0c669ee186de8e278\n"
     ]
    }
   ],
   "source": [
    "# Create instance\n",
    "# in the KeyName argument ensure to change to your own keypair's name\n",
    "apache_server = ec2.create_instances(\n",
    "    ImageId='ami-0b0af3577fe5e3532', InstanceType='t2.micro', MaxCount=1, MinCount=1, KeyName='win_keypair',\n",
    "    NetworkInterfaces=[{'SubnetId': subnets[0].id, 'DeviceIndex': 0, 'AssociatePublicIpAddress': True, 'Groups': [frontend_sg.group_id]}],\n",
    "    UserData=APACHE_SCRIPT)\n",
    "\n",
    "#wait until apache is running to provide output\n",
    "apache_server[0].wait_until_running()\n",
    "\n",
    "print(apache_server[0].id)"
   ]
  },
  {
   "cell_type": "markdown",
   "metadata": {},
   "source": [
    "## Create MySQL database server"
   ]
  },
  {
   "cell_type": "code",
   "execution_count": 99,
   "metadata": {},
   "outputs": [
    {
     "name": "stdout",
     "output_type": "stream",
     "text": [
      "i-05d359b5de34f1e1e\n"
     ]
    }
   ],
   "source": [
    "# Create MySQL instance and assign to back end security group\n",
    "# in the KeyName argument ensure to change to your own keypair's name\n",
    "\n",
    "sql_server = ec2.create_instances(\n",
    "    ImageId='ami-0b0af3577fe5e3532', InstanceType='t2.micro', MaxCount=1, MinCount=1, KeyName='win_keypair',\n",
    "    NetworkInterfaces=[{'SubnetId': subnets[1].id, 'DeviceIndex': 0, 'AssociatePublicIpAddress': True, 'Groups': [backend_sg.group_id]}],\n",
    "    UserData=SQLDB_SCRIPT)\n",
    "\n",
    "#wait until apache is running to provide output\n",
    "sql_server[0].wait_until_running()\n",
    "\n",
    "print(sql_server[0].id)"
   ]
  },
  {
   "cell_type": "markdown",
   "metadata": {},
   "source": [
    "## Print infrastructure summary dataframe"
   ]
  },
  {
   "cell_type": "code",
   "execution_count": 100,
   "metadata": {},
   "outputs": [],
   "source": [
    "#extract instance description\n",
    "#it is a nested dictionary object\n",
    "insts = client.describe_instances()"
   ]
  },
  {
   "cell_type": "markdown",
   "metadata": {},
   "source": [
    "## For a simple summary of your VPC infrastructure"
   ]
  },
  {
   "cell_type": "code",
   "execution_count": 104,
   "metadata": {},
   "outputs": [
    {
     "data": {
      "text/html": [
       "<div>\n",
       "<style scoped>\n",
       "    .dataframe tbody tr th:only-of-type {\n",
       "        vertical-align: middle;\n",
       "    }\n",
       "\n",
       "    .dataframe tbody tr th {\n",
       "        vertical-align: top;\n",
       "    }\n",
       "\n",
       "    .dataframe thead th {\n",
       "        text-align: right;\n",
       "    }\n",
       "</style>\n",
       "<table border=\"1\" class=\"dataframe\">\n",
       "  <thead>\n",
       "    <tr style=\"text-align: right;\">\n",
       "      <th></th>\n",
       "      <th>VPC id</th>\n",
       "      <th>Internet GW</th>\n",
       "      <th>NAT-GW</th>\n",
       "      <th>Subnets</th>\n",
       "      <th>Route tables</th>\n",
       "      <th>Security groups</th>\n",
       "      <th>Apache Ip</th>\n",
       "      <th>SQLDB Ip</th>\n",
       "    </tr>\n",
       "  </thead>\n",
       "  <tbody>\n",
       "    <tr>\n",
       "      <th>0</th>\n",
       "      <td>vpc-03041b00327f8cb8c</td>\n",
       "      <td>igw-0031ae9b07687062e</td>\n",
       "      <td>nat-0a1379f5b02b84a0d</td>\n",
       "      <td>subnet-0d86d5399c139f4f6</td>\n",
       "      <td>ec2.RouteTable(id='rtb-0fa403499fd09a499')</td>\n",
       "      <td>sg-0d475baa4ed21b3ac</td>\n",
       "      <td>107.20.39.239</td>\n",
       "      <td>10.0.1.102</td>\n",
       "    </tr>\n",
       "    <tr>\n",
       "      <th>1</th>\n",
       "      <td></td>\n",
       "      <td></td>\n",
       "      <td></td>\n",
       "      <td>subnet-06fb1a00401245fc8</td>\n",
       "      <td>ec2.RouteTable(id='rtb-0fa403499fd09a499')</td>\n",
       "      <td>sg-0ab553c18f257b7c5</td>\n",
       "      <td></td>\n",
       "      <td></td>\n",
       "    </tr>\n",
       "    <tr>\n",
       "      <th>2</th>\n",
       "      <td></td>\n",
       "      <td></td>\n",
       "      <td></td>\n",
       "      <td>subnet-031d62e879e13f94d</td>\n",
       "      <td></td>\n",
       "      <td></td>\n",
       "      <td></td>\n",
       "      <td></td>\n",
       "    </tr>\n",
       "    <tr>\n",
       "      <th>3</th>\n",
       "      <td></td>\n",
       "      <td></td>\n",
       "      <td></td>\n",
       "      <td>subnet-0ffb4387a98ba72db</td>\n",
       "      <td></td>\n",
       "      <td></td>\n",
       "      <td></td>\n",
       "      <td></td>\n",
       "    </tr>\n",
       "  </tbody>\n",
       "</table>\n",
       "</div>"
      ],
      "text/plain": [
       "                  VPC id            Internet GW                 NAT-GW  \\\n",
       "0  vpc-03041b00327f8cb8c  igw-0031ae9b07687062e  nat-0a1379f5b02b84a0d   \n",
       "1                                                                        \n",
       "2                                                                        \n",
       "3                                                                        \n",
       "\n",
       "                    Subnets                                Route tables  \\\n",
       "0  subnet-0d86d5399c139f4f6  ec2.RouteTable(id='rtb-0fa403499fd09a499')   \n",
       "1  subnet-06fb1a00401245fc8  ec2.RouteTable(id='rtb-0fa403499fd09a499')   \n",
       "2  subnet-031d62e879e13f94d                                               \n",
       "3  subnet-0ffb4387a98ba72db                                               \n",
       "\n",
       "        Security groups      Apache Ip    SQLDB Ip  \n",
       "0  sg-0d475baa4ed21b3ac  107.20.39.239  10.0.1.102  \n",
       "1  sg-0ab553c18f257b7c5                             \n",
       "2                                                   \n",
       "3                                                   "
      ]
     },
     "execution_count": 104,
     "metadata": {},
     "output_type": "execute_result"
    }
   ],
   "source": [
    "#manually create summary dictionary for target variables\n",
    "summary = {\"VPC id\": [vpc.id, \"\", \"\", \"\"], \"Internet GW\": [igw.id, \"\", \"\", \"\"], \"NAT-GW\": [nat_gw_id, \"\", \"\", \"\"], \n",
    "\"Subnets\": subnet_ids, \"Route tables\": [rt_tables[0], rt_tables[0], \"\", \"\"],\n",
    "\"Security groups\": [frontend_sg.id, backend_sg.id, \"\", \"\"], \"Apache Ip\": [insts['Reservations'][0]['Instances'][0]['PublicIpAddress'], \"\", \"\", \"\"], \n",
    "\"SQLDB Ip\": [insts['Reservations'][0]['Instances'][0]['PrivateIpAddress'], \"\", \"\", \"\"]}\n",
    "\n",
    "#use dictionary to create a pandas dataframe\n",
    "vpc_summary = pd.DataFrame(summary)\n",
    "vpc_summary"
   ]
  },
  {
   "cell_type": "markdown",
   "metadata": {},
   "source": [
    "## For a more detailed summary of the VPC"
   ]
  },
  {
   "cell_type": "code",
   "execution_count": 105,
   "metadata": {},
   "outputs": [
    {
     "name": "stdout",
     "output_type": "stream",
     "text": [
      "{'Reservations': [{'Groups': [], 'Instances': [{'AmiLaunchIndex': 0, 'ImageId': 'ami-0b0af3577fe5e3532', 'InstanceId': 'i-0c669ee186de8e278', 'InstanceType': 't2.micro', 'KeyName': 'win_keypair', 'LaunchTime': datetime.datetime(2022, 4, 17, 17, 58, 38, tzinfo=tzutc()), 'Monitoring': {'State': 'disabled'}, 'Placement': {'AvailabilityZone': 'us-east-1a', 'GroupName': '', 'Tenancy': 'default'}, 'PrivateDnsName': 'ip-10-0-1-102.ec2.internal', 'PrivateIpAddress': '10.0.1.102', 'ProductCodes': [], 'PublicDnsName': '', 'PublicIpAddress': '107.20.39.239', 'State': {'Code': 16, 'Name': 'running'}, 'StateTransitionReason': '', 'SubnetId': 'subnet-0d86d5399c139f4f6', 'VpcId': 'vpc-03041b00327f8cb8c', 'Architecture': 'x86_64', 'BlockDeviceMappings': [{'DeviceName': '/dev/sda1', 'Ebs': {'AttachTime': datetime.datetime(2022, 4, 17, 17, 58, 39, tzinfo=tzutc()), 'DeleteOnTermination': True, 'Status': 'attached', 'VolumeId': 'vol-08e67bed2802d8985'}}], 'ClientToken': '902bb954-34bc-4445-a853-5ff912f784a2', 'EbsOptimized': False, 'EnaSupport': True, 'Hypervisor': 'xen', 'NetworkInterfaces': [{'Association': {'IpOwnerId': 'amazon', 'PublicDnsName': '', 'PublicIp': '107.20.39.239'}, 'Attachment': {'AttachTime': datetime.datetime(2022, 4, 17, 17, 58, 38, tzinfo=tzutc()), 'AttachmentId': 'eni-attach-0ade877d9e9e14d2a', 'DeleteOnTermination': True, 'DeviceIndex': 0, 'Status': 'attached', 'NetworkCardIndex': 0}, 'Description': '', 'Groups': [{'GroupName': 'frontend_sg_py_vpc', 'GroupId': 'sg-0d475baa4ed21b3ac'}], 'Ipv6Addresses': [], 'MacAddress': '0a:d8:c2:db:5e:c3', 'NetworkInterfaceId': 'eni-00c1f964564e2ab60', 'OwnerId': '957171820283', 'PrivateIpAddress': '10.0.1.102', 'PrivateIpAddresses': [{'Association': {'IpOwnerId': 'amazon', 'PublicDnsName': '', 'PublicIp': '107.20.39.239'}, 'Primary': True, 'PrivateIpAddress': '10.0.1.102'}], 'SourceDestCheck': True, 'Status': 'in-use', 'SubnetId': 'subnet-0d86d5399c139f4f6', 'VpcId': 'vpc-03041b00327f8cb8c', 'InterfaceType': 'interface'}], 'RootDeviceName': '/dev/sda1', 'RootDeviceType': 'ebs', 'SecurityGroups': [{'GroupName': 'frontend_sg_py_vpc', 'GroupId': 'sg-0d475baa4ed21b3ac'}], 'SourceDestCheck': True, 'VirtualizationType': 'hvm', 'CpuOptions': {'CoreCount': 1, 'ThreadsPerCore': 1}, 'CapacityReservationSpecification': {'CapacityReservationPreference': 'open'}, 'HibernationOptions': {'Configured': False}, 'MetadataOptions': {'State': 'applied', 'HttpTokens': 'optional', 'HttpPutResponseHopLimit': 1, 'HttpEndpoint': 'enabled', 'HttpProtocolIpv6': 'disabled', 'InstanceMetadataTags': 'disabled'}, 'EnclaveOptions': {'Enabled': False}, 'PlatformDetails': 'Red Hat Enterprise Linux', 'UsageOperation': 'RunInstances:0010', 'UsageOperationUpdateTime': datetime.datetime(2022, 4, 17, 17, 58, 38, tzinfo=tzutc()), 'PrivateDnsNameOptions': {'HostnameType': 'ip-name', 'EnableResourceNameDnsARecord': False, 'EnableResourceNameDnsAAAARecord': False}, 'MaintenanceOptions': {'AutoRecovery': 'default'}}], 'OwnerId': '957171820283', 'ReservationId': 'r-0b6294a31a3eb3539'}, {'Groups': [], 'Instances': [{'AmiLaunchIndex': 0, 'ImageId': 'ami-0b0af3577fe5e3532', 'InstanceId': 'i-05d359b5de34f1e1e', 'InstanceType': 't2.micro', 'KeyName': 'win_keypair', 'LaunchTime': datetime.datetime(2022, 4, 17, 18, 0, 19, tzinfo=tzutc()), 'Monitoring': {'State': 'disabled'}, 'Placement': {'AvailabilityZone': 'us-east-1b', 'GroupName': '', 'Tenancy': 'default'}, 'PrivateDnsName': 'ip-10-0-2-83.ec2.internal', 'PrivateIpAddress': '10.0.2.83', 'ProductCodes': [], 'PublicDnsName': '', 'PublicIpAddress': '52.91.179.78', 'State': {'Code': 16, 'Name': 'running'}, 'StateTransitionReason': '', 'SubnetId': 'subnet-06fb1a00401245fc8', 'VpcId': 'vpc-03041b00327f8cb8c', 'Architecture': 'x86_64', 'BlockDeviceMappings': [{'DeviceName': '/dev/sda1', 'Ebs': {'AttachTime': datetime.datetime(2022, 4, 17, 18, 0, 20, tzinfo=tzutc()), 'DeleteOnTermination': True, 'Status': 'attached', 'VolumeId': 'vol-0e615b1e06dcc58cf'}}], 'ClientToken': '80d6186e-26ba-410a-a454-d56e09125362', 'EbsOptimized': False, 'EnaSupport': True, 'Hypervisor': 'xen', 'NetworkInterfaces': [{'Association': {'IpOwnerId': 'amazon', 'PublicDnsName': '', 'PublicIp': '52.91.179.78'}, 'Attachment': {'AttachTime': datetime.datetime(2022, 4, 17, 18, 0, 19, tzinfo=tzutc()), 'AttachmentId': 'eni-attach-0a80d2e0fae6e2aac', 'DeleteOnTermination': True, 'DeviceIndex': 0, 'Status': 'attached', 'NetworkCardIndex': 0}, 'Description': '', 'Groups': [{'GroupName': 'backend_sg_py_vpc', 'GroupId': 'sg-0ab553c18f257b7c5'}], 'Ipv6Addresses': [], 'MacAddress': '0e:66:1f:ca:78:c7', 'NetworkInterfaceId': 'eni-06d7687a49411a9f6', 'OwnerId': '957171820283', 'PrivateIpAddress': '10.0.2.83', 'PrivateIpAddresses': [{'Association': {'IpOwnerId': 'amazon', 'PublicDnsName': '', 'PublicIp': '52.91.179.78'}, 'Primary': True, 'PrivateIpAddress': '10.0.2.83'}], 'SourceDestCheck': True, 'Status': 'in-use', 'SubnetId': 'subnet-06fb1a00401245fc8', 'VpcId': 'vpc-03041b00327f8cb8c', 'InterfaceType': 'interface'}], 'RootDeviceName': '/dev/sda1', 'RootDeviceType': 'ebs', 'SecurityGroups': [{'GroupName': 'backend_sg_py_vpc', 'GroupId': 'sg-0ab553c18f257b7c5'}], 'SourceDestCheck': True, 'VirtualizationType': 'hvm', 'CpuOptions': {'CoreCount': 1, 'ThreadsPerCore': 1}, 'CapacityReservationSpecification': {'CapacityReservationPreference': 'open'}, 'HibernationOptions': {'Configured': False}, 'MetadataOptions': {'State': 'applied', 'HttpTokens': 'optional', 'HttpPutResponseHopLimit': 1, 'HttpEndpoint': 'enabled', 'HttpProtocolIpv6': 'disabled', 'InstanceMetadataTags': 'disabled'}, 'EnclaveOptions': {'Enabled': False}, 'PlatformDetails': 'Red Hat Enterprise Linux', 'UsageOperation': 'RunInstances:0010', 'UsageOperationUpdateTime': datetime.datetime(2022, 4, 17, 18, 0, 19, tzinfo=tzutc()), 'PrivateDnsNameOptions': {'HostnameType': 'ip-name', 'EnableResourceNameDnsARecord': False, 'EnableResourceNameDnsAAAARecord': False}, 'MaintenanceOptions': {'AutoRecovery': 'default'}}], 'OwnerId': '957171820283', 'ReservationId': 'r-01307f43fec201f39'}], 'ResponseMetadata': {'RequestId': '9c1bb164-795e-4213-aa9c-1b7becd68f6b', 'HTTPStatusCode': 200, 'HTTPHeaders': {'x-amzn-requestid': '9c1bb164-795e-4213-aa9c-1b7becd68f6b', 'cache-control': 'no-cache, no-store', 'strict-transport-security': 'max-age=31536000; includeSubDomains', 'vary': 'accept-encoding', 'content-type': 'text/xml;charset=UTF-8', 'transfer-encoding': 'chunked', 'date': 'Sun, 17 Apr 2022 18:00:53 GMT', 'server': 'AmazonEC2'}, 'RetryAttempts': 0}}\n"
     ]
    }
   ],
   "source": [
    "#prints a nested dictionary object\n",
    "print(insts) "
   ]
  },
  {
   "cell_type": "markdown",
   "metadata": {},
   "source": [
    "## Destroy EC2 instances and VPC"
   ]
  },
  {
   "cell_type": "markdown",
   "metadata": {},
   "source": [
    "With Terraform you can simply type \"Terraform destroy\" on your terminal and all instances/infrastruce will be destroyed. But with Python's Boto3 it takes another 200 plus lines of code to implement a fit for purpose destroy function. \n",
    "\n",
    "Using the aws-vpc-destroy (236 lines of code) I imported earlier as destroy, we can simply terminate all instances with two lines of code. Again, ensure you have the aws-vpc-destroy.py file in the same directory as this python code. And destroy module isn't one size fits all. You will need to modify for other infrastructures."
   ]
  },
  {
   "cell_type": "code",
   "execution_count": 106,
   "metadata": {},
   "outputs": [
    {
     "name": "stderr",
     "output_type": "stream",
     "text": [
      "[aws_vpc_destroy.py:64 -          destroy_ec2() ] instance deletion list: ['i-0c669ee186de8e278', 'i-05d359b5de34f1e1e']\n",
      "[aws_vpc_destroy.py:66 -          destroy_ec2() ] Waiting for instances to terminate\n"
     ]
    }
   ],
   "source": [
    "#call vpc destroy function and insert vpcid and region as inputs to destroy ec2 instances\n",
    "destroy.destroy_ec2(str(vpc.id), REGION)"
   ]
  },
  {
   "cell_type": "code",
   "execution_count": 107,
   "metadata": {},
   "outputs": [
    {
     "name": "stderr",
     "output_type": "stream",
     "text": [
      "[aws_vpc_destroy.py:172 -           delete_vpc() ] waiting on ENIs to delete\n",
      "[aws_vpc_destroy.py:172 -           delete_vpc() ] waiting on ENIs to delete\n",
      "[aws_vpc_destroy.py:172 -           delete_vpc() ] waiting on ENIs to delete\n",
      "[aws_vpc_destroy.py:172 -           delete_vpc() ] waiting on ENIs to delete\n",
      "[aws_vpc_destroy.py:172 -           delete_vpc() ] waiting on ENIs to delete\n",
      "[aws_vpc_destroy.py:172 -           delete_vpc() ] waiting on ENIs to delete\n",
      "[aws_vpc_destroy.py:168 -           delete_vpc() ] no ENIs remaining\n"
     ]
    },
    {
     "data": {
      "text/plain": [
       "True"
      ]
     },
     "execution_count": 107,
     "metadata": {},
     "output_type": "execute_result"
    }
   ],
   "source": [
    "#call vpc destroy function and insert vpcid and region as inputs to destroy vpc and other dependencies\n",
    "destroy.delete_vpc(str(vpc.id), REGION, release_eips=True)"
   ]
  }
 ],
 "metadata": {
  "interpreter": {
   "hash": "cecacdee79960deaff6922620289fbba3512fa0446a24cb89739189e06ed7e98"
  },
  "kernelspec": {
   "display_name": "Python 3.9.2 64-bit",
   "language": "python",
   "name": "python3"
  },
  "language_info": {
   "codemirror_mode": {
    "name": "ipython",
    "version": 3
   },
   "file_extension": ".py",
   "mimetype": "text/x-python",
   "name": "python",
   "nbconvert_exporter": "python",
   "pygments_lexer": "ipython3",
   "version": "3.9.2"
  },
  "orig_nbformat": 4
 },
 "nbformat": 4,
 "nbformat_minor": 2
}
