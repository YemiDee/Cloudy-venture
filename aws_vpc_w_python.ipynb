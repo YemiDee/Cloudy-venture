{
 "cells": [
  {
   "cell_type": "code",
   "execution_count": null,
   "metadata": {},
   "outputs": [],
   "source": [
    "import logging\n",
    "import boto3\n",
    "import boto3.session\n",
    "from datetime import date, datetime\n",
    "from botocore.exceptions import ClientError\n",
    "import json\n",
    "import sys\n",
    "import time\n",
    "import os\n",
    "import argparse\n",
    "import aws_vpc_destroy as destroy\n",
    "import pandas as pd\n",
    "\n",
    "# http://boto3.readthedocs.io/en/latest/reference/services/ec2.html#service-resource\n",
    "\n",
    "ec2 = boto3.resource('ec2')\n",
    "client = boto3.client('ec2')"
   ]
  },
  {
   "cell_type": "code",
   "execution_count": null,
   "metadata": {},
   "outputs": [],
   "source": [
    "# session = boto3.session.Session()\n",
    "REGION = \"us-east-1\"\n",
    "cidr_block = '10.0.0.0/16'\n",
    "\n",
    "# logger config\n",
    "logger = logging.getLogger()\n",
    "logging.basicConfig(level=logging.INFO,\n",
    "                    format='%(asctime)s: %(levelname)s: %(message)s')"
   ]
  },
  {
   "cell_type": "code",
   "execution_count": null,
   "metadata": {},
   "outputs": [],
   "source": [
    "# create VPC\n",
    "vpc = ec2.create_vpc(CidrBlock=cidr_block)\n",
    "# we can assign a name to vpc, or any resource, by using tag\n",
    "vpc.create_tags(Tags=[{\"Key\": \"Name\", \"Value\": \"python-vpc\"}])\n",
    "vpc.wait_until_available()\n",
    "print(vpc.id)"
   ]
  },
  {
   "cell_type": "code",
   "execution_count": null,
   "metadata": {},
   "outputs": [],
   "source": [
    "# Code below also creates a vpc (alternative to the above)\n",
    "# ec2_client = session.client('ec2', REGION)\n",
    "# ec2_resource = session.resource('ec2', REGION)\n",
    "# create_vpc_response = ec2_client.create_vpc(CidrBlock=cidr_block)\n",
    "# vpc = ec2_resource.Vpc(create_vpc_response[\"Vpc\"][\"VpcId\"])"
   ]
  },
  {
   "cell_type": "code",
   "execution_count": null,
   "metadata": {},
   "outputs": [],
   "source": [
    "# create then attach internet gateway\n",
    "igw = ec2.create_internet_gateway()\n",
    "igw.create_tags(Tags=[{\"Key\": \"Name\", \"Value\": \"python-vpc-igw\"}])\n",
    "#attach to vpc using the gateway id\n",
    "vpc.attach_internet_gateway(InternetGatewayId=igw.id)\n",
    "print(igw.id)\n",
    "\n",
    "#create_internet_gateway also returns a dict\n",
    "# create_ig_response = ec2_client.create_internet_gateway()\n",
    "# ig_id = create_ig_response[\"InternetGateway\"][\"InternetGatewayId\"]"
   ]
  },
  {
   "cell_type": "markdown",
   "metadata": {},
   "source": [
    "## Create public and private subnets"
   ]
  },
  {
   "cell_type": "code",
   "execution_count": null,
   "metadata": {},
   "outputs": [],
   "source": [
    "cidr_blocks = [\"10.0.1.0/24\", \"10.0.2.0/24\", \"10.0.3.0/24\", \"10.0.4.0/24\"]\n",
    "availability_zones = [\"us-east-1a\", \"us-east-1b\"]\n",
    "\n",
    "# create subnet\n",
    "#define a function to create subnets\n",
    "def create_public_private_subnets(cidr_list, azs, vpc_id):\n",
    "    \"\"\"input: cidr_block list, availability zones' list and vpc_id\n",
    "    output: list of public and private subnets\"\"\"\n",
    "    #initialize empty list for subnets\n",
    "    subnets = []\n",
    "    for idx in range(len(cidr_list)):\n",
    "        #because I want a public and private SN to be in same az\n",
    "        if idx % 2 == 0:\n",
    "            subnet = ec2.create_subnet(CidrBlock=cidr_list[idx], VpcId=vpc_id, \\\n",
    "                AvailabilityZone = azs[0])\n",
    "            subnets.append(subnet)\n",
    "        elif idx % 2 == 1:\n",
    "            subnet = ec2.create_subnet(CidrBlock=cidr_list[idx], VpcId=vpc_id, \\\n",
    "                AvailabilityZone = azs[1])            \n",
    "            subnets.append(subnet)\n",
    "    #create tags\n",
    "    for idx in range(len(subnets)):\n",
    "        if idx % 2 == 0:\n",
    "            subnets[idx].create_tags(Tags=[{\"Key\": \"Name\", \"Value\": \"publicSN_\" + str(idx+1)}])\n",
    "        else:\n",
    "            subnets[idx].create_tags(Tags=[{\"Key\": \"Name\", \"Value\": \"privateSN_\" + str(idx)}])\n",
    "\n",
    "    return subnets\n",
    "\n",
    "\n",
    "#call subnet function and loop print subnet ids\n",
    "subnets = create_public_private_subnets(cidr_blocks, availability_zones, vpc.id)\n",
    "\n",
    "for subnet in subnets:\n",
    "    print(subnet.id)\n",
    "\n",
    "#subnet = ec2.create_subnet(CidrBlock='192.168.1.0/24', VpcId=vpc.id)\n",
    "#or \n",
    "#create_subnet can be run directly on the vpc object\n",
    "# subnet = vpc.create_subnet(CidrBlock=subnet_cidr, AvailabilityZone=\"{}{}\".format(REGION, az))"
   ]
  },
  {
   "cell_type": "code",
   "execution_count": null,
   "metadata": {},
   "outputs": [],
   "source": [
    "def wait_nat_creation(nat_gateway_id):\n",
    "    \"\"\"\n",
    "    Check if successful state is reached every 15 seconds until a successful state is reached.\n",
    "    An error is returned after 40 failed checks.\n",
    "    \"\"\"\n",
    "    try:\n",
    "        waiter = client.get_waiter('nat_gateway_available')\n",
    "        waiter.wait(NatGatewayIds=[nat_gateway_id])\n",
    "    except ClientError:\n",
    "        logger.exception(f'Could not create the NAT gateway.')\n",
    "        raise"
   ]
  },
  {
   "cell_type": "code",
   "execution_count": null,
   "metadata": {},
   "outputs": [],
   "source": [
    "#create NAT gateway \n",
    "#initialize elastic ip for same\n",
    "allocation = client.allocate_address(Domain='vpc')\n",
    "# response = ec2.associate_address(AllocationId=allocation['AllocationId'],\n",
    "#                                     InstanceId='INSTANCE_ID')\n",
    "# print(response)\n",
    "nat_gw = client.create_nat_gateway(SubnetId=subnets[0].id, AllocationId=allocation['AllocationId'],\n",
    "            TagSpecifications=[{\n",
    "                'ResourceType':\n",
    "                'natgateway',\n",
    "                'Tags': [{\n",
    "                    'Key': 'Name',\n",
    "                    'Value': 'python-nat-gateway'\n",
    "                }]\n",
    "            }])\n",
    "\n",
    "nat_gw_id = nat_gw['NatGateway']['NatGatewayId']\n",
    "\n",
    "#wait until nat gateway is created\n",
    "wait_nat_creation(nat_gw_id)"
   ]
  },
  {
   "cell_type": "code",
   "execution_count": null,
   "metadata": {},
   "outputs": [],
   "source": [
    "print(nat_gw_id)"
   ]
  },
  {
   "cell_type": "markdown",
   "metadata": {},
   "source": [
    "## Create route tables and associations"
   ]
  },
  {
   "cell_type": "code",
   "execution_count": null,
   "metadata": {},
   "outputs": [],
   "source": [
    "# # create a public route table, this can be used when creating a single route table\n",
    "\n",
    "# public_route_table = vpc.create_route_table()\n",
    "# # and a public route, assign public cidr block and attach to internet gateway created above\n",
    "# route = public_route_table.create_route(\n",
    "#     DestinationCidrBlock='0.0.0.0/0',\n",
    "#     GatewayId=ig.id\n",
    "# )\n",
    "# # associate the route table with the subnet\n",
    "# public_route_table.associate_with_subnet(SubnetId=subnet.id)\n",
    "\n",
    "# print(public_route_table.id)"
   ]
  },
  {
   "cell_type": "markdown",
   "metadata": {},
   "source": [
    "## Code below for multiple route tables\n"
   ]
  },
  {
   "cell_type": "code",
   "execution_count": null,
   "metadata": {},
   "outputs": [],
   "source": [
    "# define a function to create more than one route table at a time\n",
    "\n",
    "def route_tables(rt_titles, gw_list):\n",
    "    \"\"\"input: cidr_block list, availability zones' list and vpc_id\n",
    "    output: list of public and private subnets\"\"\"\n",
    "    #initialize empty route table list to collect route_tables\n",
    "    route_tables = []\n",
    "    for idx in range(len(rt_titles)):\n",
    "\n",
    "        title = vpc.create_route_table()\n",
    "\n",
    "        # and a public route, assign public cidr block and attach to internet gateway created above\n",
    "        g_way = gw_list[idx]\n",
    "        if type(g_way) is dict:\n",
    "\n",
    "            route = title.create_route(\n",
    "                DestinationCidrBlock='0.0.0.0/0',\n",
    "                GatewayId=g_way['NatGateway']['NatGatewayId']\n",
    "            )\n",
    "        # associate the route table with the subnet\n",
    "        # for idx2 in range(len(rt_titles)):\n",
    "            title.associate_with_subnet(SubnetId=subnets[idx].id)\n",
    "            idx2 = idx + 2\n",
    "            title.associate_with_subnet(SubnetId=subnets[idx2].id)\n",
    "\n",
    "            route_tables.append(title)\n",
    "        else:\n",
    "\n",
    "            route = title.create_route(\n",
    "                DestinationCidrBlock='0.0.0.0/0',\n",
    "                GatewayId=g_way.id\n",
    "            )\n",
    "        # associate the route table with the subnet\n",
    "        # for idx2 in range(len(rt_titles)):\n",
    "            title.associate_with_subnet(SubnetId=subnets[idx].id)\n",
    "            idx2 = idx + 2\n",
    "            title.associate_with_subnet(SubnetId=subnets[idx2].id)\n",
    "\n",
    "            route_tables.append(title)\n",
    "\n",
    "    #iterate to create tags for route tables\n",
    "    for idx in range(len(route_tables)):\n",
    "        route_tables[idx].create_tags(Tags=[{\"Key\": \"Name\", \"Value\": str(rt_titles[idx])}])\n",
    "\n",
    "    return route_tables\n"
   ]
  },
  {
   "cell_type": "code",
   "execution_count": null,
   "metadata": {},
   "outputs": [],
   "source": [
    "#initialize route table variables\n",
    "rt_titles = [\"public_route_table\", \"private_route_table\"]\n",
    "gws = [igw, nat_gw]\n",
    "\n",
    "#call route table function to create public and private route tables\n",
    "rt_tables = route_tables(rt_titles, gws)\n",
    "\n",
    "print(rt_tables)"
   ]
  },
  {
   "cell_type": "markdown",
   "metadata": {},
   "source": [
    "## Create frontend and backend security groups"
   ]
  },
  {
   "cell_type": "code",
   "execution_count": null,
   "metadata": {},
   "outputs": [],
   "source": [
    "# Create frontend sec group\n",
    "frontend_sg = ec2.create_security_group(\n",
    "    GroupName='frontend_sg_py_vpc', Description='front end security group', VpcId=vpc.id)"
   ]
  },
  {
   "cell_type": "code",
   "execution_count": null,
   "metadata": {},
   "outputs": [],
   "source": [
    "#attach front end security permissions\n",
    "frontend_sg.authorize_ingress(IpPermissions = [\n",
    "    {\n",
    "    'IpProtocol':'tcp',\n",
    "    'FromPort':443,\n",
    "    'ToPort':443,\n",
    "    'IpRanges':[{'CidrIp':'0.0.0.0/0'}]\n",
    "    },\n",
    "    {\n",
    "    'IpProtocol':'tcp',\n",
    "    'FromPort':80,\n",
    "    'ToPort':80,\n",
    "    'IpRanges':[{'CidrIp':'0.0.0.0/0'}]\n",
    "    },\n",
    "    {\n",
    "    'IpProtocol':'tcp',\n",
    "    'FromPort':22,\n",
    "    'ToPort':22,\n",
    "    'IpRanges':[{'CidrIp':'0.0.0.0/0'}]\n",
    "    },\n",
    "]\n",
    ")\n",
    "\n",
    "# frontend_sg.authorize_egress(IpPermissions = [\n",
    "#     {\n",
    "#     'IpProtocol':'-1',\n",
    "#     'FromPort':0,\n",
    "#     'ToPort':0,\n",
    "#     'IpRanges':[{'CidrIp':'0.0.0.0/0'}]\n",
    "#     }\n",
    "# ]\n",
    "# )\n",
    "\n"
   ]
  },
  {
   "cell_type": "code",
   "execution_count": null,
   "metadata": {},
   "outputs": [],
   "source": [
    "#Create backend security group\n",
    "backend_sg = ec2.create_security_group(\n",
    "    GroupName='backend_sg_py_vpc', Description='back end security group', VpcId=vpc.id)"
   ]
  },
  {
   "cell_type": "code",
   "execution_count": null,
   "metadata": {},
   "outputs": [],
   "source": [
    "##attach back end security permissions\n",
    "\n",
    "backend_sg.authorize_ingress(IpPermissions = [    \n",
    "    {\n",
    "    'IpRanges':[{'CidrIp':\"10.0.1.0/24\", 'CidrIp':\"10.0.2.0/24\"}],\n",
    "    'IpProtocol':'tcp',\n",
    "    'FromPort':3306,\n",
    "    'ToPort':3306\n",
    "    },\n",
    "    {\n",
    "    'IpRanges':[{'CidrIp':\"10.0.1.0/24\", 'CidrIp':\"10.0.2.0/24\"}],\n",
    "    'IpProtocol':'tcp',\n",
    "    'FromPort':22,\n",
    "    'ToPort':22\n",
    "    }\n",
    "]\n",
    ")\n",
    "# egress already created with sec group\n",
    "# backend_sg.authorize_egress(IpPermissions = [\n",
    "#     {    \n",
    "#     'IpRanges':[{'CidrIp':'0.0.0.0/0'}],\n",
    "#     'IpProtocol':'-1',\n",
    "#     'FromPort':0,\n",
    "#     'ToPort':0\n",
    "#     }\n",
    "# ]\n",
    "# )\n"
   ]
  },
  {
   "cell_type": "code",
   "execution_count": null,
   "metadata": {},
   "outputs": [],
   "source": [
    "print(frontend_sg.id, backend_sg.id)"
   ]
  },
  {
   "cell_type": "markdown",
   "metadata": {},
   "source": [
    "## Create S3 bucket and policy"
   ]
  },
  {
   "cell_type": "code",
   "execution_count": null,
   "metadata": {},
   "outputs": [],
   "source": [
    "# Create a bucket policy\n",
    "bucket_name = 'py-med-bucket'\n",
    "\n",
    "# s3_location = {\n",
    "#     'LocationConstraint':'us-east-1'\n",
    "# }\n",
    "# , CreateBucketConfiguration=s3_location\n",
    "bucket_policy = {\n",
    "    'Version': '2012-10-17',\n",
    "    'Statement': [{\n",
    "        'Sid': 'PublicReadGetObject',\n",
    "        'Effect': 'Allow',\n",
    "        'Principal': '*',\n",
    "        'Action': ['s3:GetObject', 's3:GetObjectVersion'],\n",
    "        'Resource': f'arn:aws:s3:::{bucket_name}/*'\n",
    "    }]\n",
    "}\n",
    "\n",
    "# Convert the policy from JSON dict to string\n",
    "bucket_policy = json.dumps(bucket_policy)\n",
    "\n",
    "# Set the new policy and include ACL\n",
    "s3 = boto3.client('s3')\n",
    "s3.create_bucket(Bucket=bucket_name, ACL='public-read')\n",
    "s3.put_bucket_policy(Bucket=bucket_name, Policy=bucket_policy)"
   ]
  },
  {
   "cell_type": "markdown",
   "metadata": {},
   "source": [
    "## Create Apache web server instance with user data"
   ]
  },
  {
   "cell_type": "code",
   "execution_count": null,
   "metadata": {},
   "outputs": [],
   "source": [
    "#use code to creat key if you do not have one\n",
    "# ec2_key = boto3.connect_ec2()\n",
    "# key = ec2_key = boto3.connect_ec2().create_key_pair('mynewkey')\n",
    "# key.save('~/filepath of your choice/')"
   ]
  },
  {
   "cell_type": "markdown",
   "metadata": {},
   "source": [
    "## Initialize Apache and SQL command line scripts"
   ]
  },
  {
   "cell_type": "code",
   "execution_count": null,
   "metadata": {},
   "outputs": [],
   "source": [
    "APACHE_SCRIPT = \"\"\"#!/bin/bash\n",
    "  #sudo yum update -y\n",
    "  sudo yum install httpd -y\n",
    "  sudo service httpd start\n",
    "  sudo chkconfig httpd on\n",
    "  cd /var/www/html\n",
    "  echo \"<html><h1>This is Apache Web Server 01</h1></html>\" > index.html\n",
    "  sudo yum install mysql -y\n",
    "  \"\"\"\n",
    "\n",
    "SQLDB_SCRIPT = \"\"\"#!/bin/bash\n",
    "sudo yum update -y\n",
    "sudo yum install mysql-server -y\n",
    "sudo service mysqld start\n",
    "\"\"\""
   ]
  },
  {
   "cell_type": "markdown",
   "metadata": {},
   "source": [
    "## Create Apache web server"
   ]
  },
  {
   "cell_type": "code",
   "execution_count": null,
   "metadata": {},
   "outputs": [],
   "source": [
    "# Create instance\n",
    "apache_server = ec2.create_instances(\n",
    "    ImageId='ami-0b0af3577fe5e3532', InstanceType='t2.micro', MaxCount=1, MinCount=1, KeyName='win_keypair',\n",
    "    NetworkInterfaces=[{'SubnetId': subnets[0].id, 'DeviceIndex': 0, 'AssociatePublicIpAddress': True, 'Groups': [frontend_sg.group_id]}],\n",
    "    UserData=APACHE_SCRIPT)\n",
    "\n",
    "#wait until apache is running to provide output\n",
    "apache_server[0].wait_until_running()\n",
    "\n",
    "print(apache_server[0].id)"
   ]
  },
  {
   "cell_type": "markdown",
   "metadata": {},
   "source": [
    "## Create MySQL database server"
   ]
  },
  {
   "cell_type": "code",
   "execution_count": null,
   "metadata": {},
   "outputs": [],
   "source": [
    "# Create MySQL instance and assign to back end security group\n",
    "sql_server = ec2.create_instances(\n",
    "    ImageId='ami-0b0af3577fe5e3532', InstanceType='t2.micro', MaxCount=1, MinCount=1, KeyName='win_keypair',\n",
    "    NetworkInterfaces=[{'SubnetId': subnets[1].id, 'DeviceIndex': 0, 'AssociatePublicIpAddress': True, 'Groups': [backend_sg.group_id]}],\n",
    "    UserData=SQLDB_SCRIPT)\n",
    "\n",
    "#wait until apache is running to provide output\n",
    "sql_server[0].wait_until_running()\n",
    "\n",
    "print(sql_server[0].id)"
   ]
  },
  {
   "cell_type": "markdown",
   "metadata": {},
   "source": [
    "## Print infrastructure summary dataframe"
   ]
  },
  {
   "cell_type": "code",
   "execution_count": null,
   "metadata": {},
   "outputs": [],
   "source": []
  },
  {
   "cell_type": "markdown",
   "metadata": {},
   "source": [
    "## Destroy EC2 instances and VPC"
   ]
  },
  {
   "cell_type": "code",
   "execution_count": null,
   "metadata": {},
   "outputs": [],
   "source": [
    "#call vpc destroy function and insert vpcid and region as inputs\n",
    "destroy.destroy_ec2(str(vpc.id), REGION)"
   ]
  },
  {
   "cell_type": "code",
   "execution_count": null,
   "metadata": {},
   "outputs": [],
   "source": [
    "#call vpc destroy function and insert vpcid and region as inputs\n",
    "destroy.delete_vpc(str(vpc.id), REGION, release_eips=True)"
   ]
  }
 ],
 "metadata": {
  "interpreter": {
   "hash": "cecacdee79960deaff6922620289fbba3512fa0446a24cb89739189e06ed7e98"
  },
  "kernelspec": {
   "display_name": "Python 3.9.2 64-bit",
   "language": "python",
   "name": "python3"
  },
  "language_info": {
   "codemirror_mode": {
    "name": "ipython",
    "version": 3
   },
   "file_extension": ".py",
   "mimetype": "text/x-python",
   "name": "python",
   "nbconvert_exporter": "python",
   "pygments_lexer": "ipython3",
   "version": "3.9.2"
  },
  "orig_nbformat": 4
 },
 "nbformat": 4,
 "nbformat_minor": 2
}
