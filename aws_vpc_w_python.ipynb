{
 "cells": [
  {
   "cell_type": "code",
   "execution_count": 40,
   "metadata": {},
   "outputs": [],
   "source": [
    "import logging\n",
    "import boto3\n",
    "import boto3.session\n",
    "from datetime import date, datetime\n",
    "from botocore.exceptions import ClientError\n",
    "import json\n",
    "import sys\n",
    "import time\n",
    "import os\n",
    "import argparse\n",
    "\n",
    "\n",
    "# http://boto3.readthedocs.io/en/latest/reference/services/ec2.html#service-resource\n",
    "\n",
    "ec2 = boto3.resource('ec2')\n",
    "client = boto3.client('ec2')"
   ]
  },
  {
   "cell_type": "code",
   "execution_count": 12,
   "metadata": {},
   "outputs": [],
   "source": [
    "# session = boto3.session.Session()\n",
    "REGION = \"us-east-1\"\n",
    "cidr_block = '10.0.0.0/16'\n",
    "\n",
    "# logger config\n",
    "logger = logging.getLogger()\n",
    "logging.basicConfig(level=logging.INFO,\n",
    "                    format='%(asctime)s: %(levelname)s: %(message)s')"
   ]
  },
  {
   "cell_type": "code",
   "execution_count": 13,
   "metadata": {},
   "outputs": [
    {
     "name": "stdout",
     "output_type": "stream",
     "text": [
      "vpc-0bab92006ed749103\n"
     ]
    }
   ],
   "source": [
    "# create VPC\n",
    "vpc = ec2.create_vpc(CidrBlock=cidr_block)\n",
    "# we can assign a name to vpc, or any resource, by using tag\n",
    "vpc.create_tags(Tags=[{\"Key\": \"Name\", \"Value\": \"python-vpc\"}])\n",
    "vpc.wait_until_available()\n",
    "print(vpc.id)"
   ]
  },
  {
   "cell_type": "code",
   "execution_count": 77,
   "metadata": {},
   "outputs": [],
   "source": [
    "# Code below also creates a vpc (alternative to the above)\n",
    "# ec2_client = session.client('ec2', REGION)\n",
    "# ec2_resource = session.resource('ec2', REGION)\n",
    "# create_vpc_response = ec2_client.create_vpc(CidrBlock=cidr_block)\n",
    "# vpc = ec2_resource.Vpc(create_vpc_response[\"Vpc\"][\"VpcId\"])"
   ]
  },
  {
   "cell_type": "code",
   "execution_count": 14,
   "metadata": {},
   "outputs": [
    {
     "name": "stdout",
     "output_type": "stream",
     "text": [
      "igw-0af665ba3b76e7b59\n"
     ]
    }
   ],
   "source": [
    "# create then attach internet gateway\n",
    "ig = ec2.create_internet_gateway()\n",
    "ig.create_tags(Tags=[{\"Key\": \"Name\", \"Value\": \"python-vpc-igw\"}])\n",
    "#attach to vpc using the gateway id\n",
    "vpc.attach_internet_gateway(InternetGatewayId=ig.id)\n",
    "print(ig.id)\n",
    "\n",
    "#create_internet_gateway also returns a dict\n",
    "# create_ig_response = ec2_client.create_internet_gateway()\n",
    "# ig_id = create_ig_response[\"InternetGateway\"][\"InternetGatewayId\"]"
   ]
  },
  {
   "cell_type": "markdown",
   "metadata": {},
   "source": [
    "## Create public and private subnets"
   ]
  },
  {
   "cell_type": "code",
   "execution_count": 15,
   "metadata": {},
   "outputs": [
    {
     "name": "stdout",
     "output_type": "stream",
     "text": [
      "subnet-0fb7251d8c6a66f37\n",
      "subnet-09bfa64c471712272\n",
      "subnet-01ba90a979e2f13c5\n",
      "subnet-0f3b5f819da843367\n"
     ]
    }
   ],
   "source": [
    "cidr_blocks = [\"10.0.1.0/24\", \"10.0.2.0/24\", \"10.0.3.0/24\", \"10.0.4.0/24\"]\n",
    "availability_zones = [\"us-east-1a\", \"us-east-1b\"]\n",
    "\n",
    "# create subnet\n",
    "#define a create subnet function\n",
    "def public_private_subnets(cidr_list, azs, vpc_id):\n",
    "    \"\"\"input: cidr_block list, availability zones' list and vpc_id\n",
    "    output: list of public and private subnets\"\"\"\n",
    "    #initialize empty list for subnets\n",
    "    subnets = []\n",
    "    for idx in range(len(cidr_list)):\n",
    "        #because I want a public and private SN to be in same az\n",
    "        if idx % 2 == 0:\n",
    "            subnet = ec2.create_subnet(CidrBlock=cidr_list[idx], VpcId=vpc_id, \\\n",
    "                AvailabilityZone = azs[0])\n",
    "            subnets.append(subnet)\n",
    "        elif idx % 2 == 1:\n",
    "            subnet = ec2.create_subnet(CidrBlock=cidr_list[idx], VpcId=vpc_id, \\\n",
    "                AvailabilityZone = azs[1])            \n",
    "            subnets.append(subnet)\n",
    "    #create tags\n",
    "    for idx in range(len(subnets)):\n",
    "        if idx % 2 == 0:\n",
    "            subnets[idx].create_tags(Tags=[{\"Key\": \"Name\", \"Value\": \"publicSN_\" + str(idx+1)}])\n",
    "        else:\n",
    "            subnets[idx].create_tags(Tags=[{\"Key\": \"Name\", \"Value\": \"privateSN_\" + str(idx)}])\n",
    "\n",
    "    return subnets\n",
    "\n",
    "subnets = public_private_subnets(cidr_blocks, availability_zones, vpc.id)\n",
    "\n",
    "for subnet in subnets:\n",
    "    print(subnet.id)\n",
    "\n",
    "#subnet = ec2.create_subnet(CidrBlock='192.168.1.0/24', VpcId=vpc.id)\n",
    "#or \n",
    "#create_subnet can be run directly on the vpc object\n",
    "# subnet = vpc.create_subnet(CidrBlock=subnet_cidr, AvailabilityZone=\"{}{}\".format(REGION, az))"
   ]
  },
  {
   "cell_type": "code",
   "execution_count": 16,
   "metadata": {},
   "outputs": [],
   "source": [
    "def wait_nat_creation(nat_gateway_id):\n",
    "    \"\"\"\n",
    "    Check if successful state is reached every 15 seconds until a successful state is reached.\n",
    "    An error is returned after 40 failed checks.\n",
    "    \"\"\"\n",
    "    try:\n",
    "        waiter = client.get_waiter('nat_gateway_available')\n",
    "        waiter.wait(NatGatewayIds=[nat_gateway_id])\n",
    "    except ClientError:\n",
    "        logger.exception(f'Could not create the NAT gateway.')\n",
    "        raise"
   ]
  },
  {
   "cell_type": "code",
   "execution_count": 17,
   "metadata": {},
   "outputs": [],
   "source": [
    "#create NAT gateway \n",
    "#initialize elastic ip for same\n",
    "allocation = client.allocate_address(Domain='vpc')\n",
    "# response = ec2.associate_address(AllocationId=allocation['AllocationId'],\n",
    "#                                     InstanceId='INSTANCE_ID')\n",
    "# print(response)\n",
    "nat_gw = client.create_nat_gateway(SubnetId=subnets[0].id, AllocationId=allocation['AllocationId'],\n",
    "            TagSpecifications=[{\n",
    "                'ResourceType':\n",
    "                'natgateway',\n",
    "                'Tags': [{\n",
    "                    'Key': 'Name',\n",
    "                    'Value': 'python-nat-gateway'\n",
    "                }]\n",
    "            }])\n",
    "\n",
    "nat_gw_id = nat_gw['NatGateway']['NatGatewayId']\n",
    "\n",
    "wait_nat_creation(nat_gw_id)"
   ]
  },
  {
   "cell_type": "code",
   "execution_count": 18,
   "metadata": {},
   "outputs": [
    {
     "name": "stdout",
     "output_type": "stream",
     "text": [
      "nat-0c761b9d492982804\n"
     ]
    }
   ],
   "source": [
    "print(nat_gw_id)"
   ]
  },
  {
   "cell_type": "markdown",
   "metadata": {},
   "source": [
    "## Create route tables and associations"
   ]
  },
  {
   "cell_type": "code",
   "execution_count": 81,
   "metadata": {},
   "outputs": [],
   "source": [
    "# # create a public route table, this can be used when creating a single route table\n",
    "\n",
    "# public_route_table = vpc.create_route_table()\n",
    "# # and a public route, assign public cidr block and attach to internet gateway created above\n",
    "# route = public_route_table.create_route(\n",
    "#     DestinationCidrBlock='0.0.0.0/0',\n",
    "#     GatewayId=ig.id\n",
    "# )\n",
    "# # associate the route table with the subnet\n",
    "# public_route_table.associate_with_subnet(SubnetId=subnet.id)\n",
    "\n",
    "# print(public_route_table.id)"
   ]
  },
  {
   "cell_type": "markdown",
   "metadata": {},
   "source": [
    "## Code below for multiple route tables\n"
   ]
  },
  {
   "cell_type": "code",
   "execution_count": 20,
   "metadata": {},
   "outputs": [],
   "source": [
    "# define a function to create more than one route table at a time\n",
    "\n",
    "def route_tables(rt_titles, gw_list):\n",
    "    \"\"\"input: cidr_block list, availability zones' list and vpc_id\n",
    "    output: list of public and private subnets\"\"\"\n",
    "    #initialize empty route table list to collect route_tables\n",
    "    route_tables = []\n",
    "    for idx in range(len(rt_titles)):\n",
    "\n",
    "        title = vpc.create_route_table()\n",
    "\n",
    "        # and a public route, assign public cidr block and attach to internet gateway created above\n",
    "        g_way = gw_list[idx]\n",
    "        if type(g_way) is dict:\n",
    "\n",
    "            route = title.create_route(\n",
    "                DestinationCidrBlock='0.0.0.0/0',\n",
    "                GatewayId=g_way['NatGateway']['NatGatewayId']\n",
    "            )\n",
    "        # associate the route table with the subnet\n",
    "        # for idx2 in range(len(rt_titles)):\n",
    "            title.associate_with_subnet(SubnetId=subnets[idx].id)\n",
    "            idx2 = idx + 2\n",
    "            title.associate_with_subnet(SubnetId=subnets[idx2].id)\n",
    "\n",
    "            route_tables.append(title)\n",
    "        else:\n",
    "\n",
    "            route = title.create_route(\n",
    "                DestinationCidrBlock='0.0.0.0/0',\n",
    "                GatewayId=g_way.id\n",
    "            )\n",
    "        # associate the route table with the subnet\n",
    "        # for idx2 in range(len(rt_titles)):\n",
    "            title.associate_with_subnet(SubnetId=subnets[idx].id)\n",
    "            idx2 = idx + 2\n",
    "            title.associate_with_subnet(SubnetId=subnets[idx2].id)\n",
    "\n",
    "            route_tables.append(title)\n",
    "\n",
    "    #iterate to create tags for route tables\n",
    "    for idx in range(len(route_tables)):\n",
    "        route_tables[idx].create_tags(Tags=[{\"Key\": \"Name\", \"Value\": str(rt_titles[idx])}])\n",
    "\n",
    "    return route_tables\n",
    "\n"
   ]
  },
  {
   "cell_type": "code",
   "execution_count": 21,
   "metadata": {},
   "outputs": [
    {
     "name": "stdout",
     "output_type": "stream",
     "text": [
      "[ec2.RouteTable(id='rtb-0839a8dcf82616d33'), ec2.RouteTable(id='rtb-00fe78c675a4ae18e')]\n"
     ]
    }
   ],
   "source": [
    "#initialize route table variables\n",
    "rt_titles = [\"public_route_table\", \"private_route_table\"]\n",
    "gws = [ig, nat_gw]\n",
    "\n",
    "#call route table function to create public and private route tables\n",
    "rt_tables = route_tables(rt_titles, gws)\n",
    "\n",
    "print(rt_tables)"
   ]
  },
  {
   "cell_type": "markdown",
   "metadata": {},
   "source": [
    "## Create frontend and backend security groups"
   ]
  },
  {
   "cell_type": "code",
   "execution_count": 22,
   "metadata": {},
   "outputs": [],
   "source": [
    "# Create frontend sec group\n",
    "frontend_sg = ec2.create_security_group(\n",
    "    GroupName='frontend_sg_py_vpc', Description='front end security group', VpcId=vpc.id)"
   ]
  },
  {
   "cell_type": "code",
   "execution_count": 23,
   "metadata": {},
   "outputs": [
    {
     "data": {
      "text/plain": [
       "{'Return': True,\n",
       " 'SecurityGroupRules': [{'SecurityGroupRuleId': 'sgr-0828d8b3fdfa628ea',\n",
       "   'GroupId': 'sg-0ece1da816fd49009',\n",
       "   'GroupOwnerId': '957171820283',\n",
       "   'IsEgress': False,\n",
       "   'IpProtocol': 'tcp',\n",
       "   'FromPort': 443,\n",
       "   'ToPort': 443,\n",
       "   'CidrIpv4': '0.0.0.0/0'},\n",
       "  {'SecurityGroupRuleId': 'sgr-0aa1c008a7710ce70',\n",
       "   'GroupId': 'sg-0ece1da816fd49009',\n",
       "   'GroupOwnerId': '957171820283',\n",
       "   'IsEgress': False,\n",
       "   'IpProtocol': 'tcp',\n",
       "   'FromPort': 80,\n",
       "   'ToPort': 80,\n",
       "   'CidrIpv4': '0.0.0.0/0'},\n",
       "  {'SecurityGroupRuleId': 'sgr-0f3fd03c981b539b6',\n",
       "   'GroupId': 'sg-0ece1da816fd49009',\n",
       "   'GroupOwnerId': '957171820283',\n",
       "   'IsEgress': False,\n",
       "   'IpProtocol': 'tcp',\n",
       "   'FromPort': 22,\n",
       "   'ToPort': 22,\n",
       "   'CidrIpv4': '0.0.0.0/0'}],\n",
       " 'ResponseMetadata': {'RequestId': '74ac05df-ad8e-4f53-98c3-3e29f4461b11',\n",
       "  'HTTPStatusCode': 200,\n",
       "  'HTTPHeaders': {'x-amzn-requestid': '74ac05df-ad8e-4f53-98c3-3e29f4461b11',\n",
       "   'cache-control': 'no-cache, no-store',\n",
       "   'strict-transport-security': 'max-age=31536000; includeSubDomains',\n",
       "   'content-type': 'text/xml;charset=UTF-8',\n",
       "   'content-length': '1531',\n",
       "   'date': 'Thu, 14 Apr 2022 00:49:23 GMT',\n",
       "   'server': 'AmazonEC2'},\n",
       "  'RetryAttempts': 0}}"
      ]
     },
     "execution_count": 23,
     "metadata": {},
     "output_type": "execute_result"
    }
   ],
   "source": [
    "#attach front end security permissions\n",
    "frontend_sg.authorize_ingress(IpPermissions = [\n",
    "    {\n",
    "    'IpProtocol':'tcp',\n",
    "    'FromPort':443,\n",
    "    'ToPort':443,\n",
    "    'IpRanges':[{'CidrIp':'0.0.0.0/0'}]\n",
    "    },\n",
    "    {\n",
    "    'IpProtocol':'tcp',\n",
    "    'FromPort':80,\n",
    "    'ToPort':80,\n",
    "    'IpRanges':[{'CidrIp':'0.0.0.0/0'}]\n",
    "    },\n",
    "    {\n",
    "    'IpProtocol':'tcp',\n",
    "    'FromPort':22,\n",
    "    'ToPort':22,\n",
    "    'IpRanges':[{'CidrIp':'0.0.0.0/0'}]\n",
    "    },\n",
    "]\n",
    ")\n",
    "\n",
    "# frontend_sg.authorize_egress(IpPermissions = [\n",
    "#     {\n",
    "#     'IpProtocol':'-1',\n",
    "#     'FromPort':0,\n",
    "#     'ToPort':0,\n",
    "#     'IpRanges':[{'CidrIp':'0.0.0.0/0'}]\n",
    "#     }\n",
    "# ]\n",
    "# )\n",
    "\n"
   ]
  },
  {
   "cell_type": "code",
   "execution_count": 24,
   "metadata": {},
   "outputs": [],
   "source": [
    "#Create backend security group\n",
    "backend_sg = ec2.create_security_group(\n",
    "    GroupName='backend_sg_py_vpc', Description='back end security group', VpcId=vpc.id)"
   ]
  },
  {
   "cell_type": "code",
   "execution_count": 25,
   "metadata": {},
   "outputs": [
    {
     "data": {
      "text/plain": [
       "{'Return': True,\n",
       " 'SecurityGroupRules': [{'SecurityGroupRuleId': 'sgr-0ca8e365bed191891',\n",
       "   'GroupId': 'sg-0c3884aeb6c361459',\n",
       "   'GroupOwnerId': '957171820283',\n",
       "   'IsEgress': False,\n",
       "   'IpProtocol': 'tcp',\n",
       "   'FromPort': 3306,\n",
       "   'ToPort': 3306,\n",
       "   'CidrIpv4': '10.0.2.0/24'},\n",
       "  {'SecurityGroupRuleId': 'sgr-0eccddac02afc650c',\n",
       "   'GroupId': 'sg-0c3884aeb6c361459',\n",
       "   'GroupOwnerId': '957171820283',\n",
       "   'IsEgress': False,\n",
       "   'IpProtocol': 'tcp',\n",
       "   'FromPort': 22,\n",
       "   'ToPort': 22,\n",
       "   'CidrIpv4': '10.0.2.0/24'}],\n",
       " 'ResponseMetadata': {'RequestId': '0402f0cc-7d25-47fe-93d0-2b4386d87444',\n",
       "  'HTTPStatusCode': 200,\n",
       "  'HTTPHeaders': {'x-amzn-requestid': '0402f0cc-7d25-47fe-93d0-2b4386d87444',\n",
       "   'cache-control': 'no-cache, no-store',\n",
       "   'strict-transport-security': 'max-age=31536000; includeSubDomains',\n",
       "   'content-type': 'text/xml;charset=UTF-8',\n",
       "   'content-length': '1132',\n",
       "   'date': 'Thu, 14 Apr 2022 00:49:54 GMT',\n",
       "   'server': 'AmazonEC2'},\n",
       "  'RetryAttempts': 0}}"
      ]
     },
     "execution_count": 25,
     "metadata": {},
     "output_type": "execute_result"
    }
   ],
   "source": [
    "##attach back end security permissions\n",
    "\n",
    "backend_sg.authorize_ingress(IpPermissions = [    \n",
    "    {\n",
    "    'IpRanges':[{'CidrIp':\"10.0.1.0/24\", 'CidrIp':\"10.0.2.0/24\"}],\n",
    "    'IpProtocol':'tcp',\n",
    "    'FromPort':3306,\n",
    "    'ToPort':3306\n",
    "    },\n",
    "    {\n",
    "    'IpRanges':[{'CidrIp':\"10.0.1.0/24\", 'CidrIp':\"10.0.2.0/24\"}],\n",
    "    'IpProtocol':'tcp',\n",
    "    'FromPort':22,\n",
    "    'ToPort':22\n",
    "    }\n",
    "]\n",
    ")\n",
    "# egress already created with sec group\n",
    "# backend_sg.authorize_egress(IpPermissions = [\n",
    "#     {    \n",
    "#     'IpRanges':[{'CidrIp':'0.0.0.0/0'}],\n",
    "#     'IpProtocol':'-1',\n",
    "#     'FromPort':0,\n",
    "#     'ToPort':0\n",
    "#     }\n",
    "# ]\n",
    "# )\n"
   ]
  },
  {
   "cell_type": "code",
   "execution_count": 26,
   "metadata": {},
   "outputs": [
    {
     "name": "stdout",
     "output_type": "stream",
     "text": [
      "sg-0ece1da816fd49009 sg-0c3884aeb6c361459\n"
     ]
    }
   ],
   "source": [
    "print(frontend_sg.id, backend_sg.id)"
   ]
  },
  {
   "cell_type": "markdown",
   "metadata": {},
   "source": [
    "## Create S3 bucket and policy"
   ]
  },
  {
   "cell_type": "code",
   "execution_count": 27,
   "metadata": {},
   "outputs": [
    {
     "data": {
      "text/plain": [
       "{'ResponseMetadata': {'RequestId': '49B1HSAPZ7QHXF4P',\n",
       "  'HostId': '3VG9IlrKv1JTwyk7a3OoJhqCz8XYC2ffrAsL5Yw2q2D/AM57Zk9LPSSeutsdoVKWFcnFua7Msms=',\n",
       "  'HTTPStatusCode': 204,\n",
       "  'HTTPHeaders': {'x-amz-id-2': '3VG9IlrKv1JTwyk7a3OoJhqCz8XYC2ffrAsL5Yw2q2D/AM57Zk9LPSSeutsdoVKWFcnFua7Msms=',\n",
       "   'x-amz-request-id': '49B1HSAPZ7QHXF4P',\n",
       "   'date': 'Thu, 14 Apr 2022 00:50:06 GMT',\n",
       "   'server': 'AmazonS3'},\n",
       "  'RetryAttempts': 0}}"
      ]
     },
     "execution_count": 27,
     "metadata": {},
     "output_type": "execute_result"
    }
   ],
   "source": [
    "# Create a bucket policy\n",
    "bucket_name = 'py-med-bucket'\n",
    "\n",
    "# s3_location = {\n",
    "#     'LocationConstraint':'us-east-1'\n",
    "# }\n",
    "# , CreateBucketConfiguration=s3_location\n",
    "bucket_policy = {\n",
    "    'Version': '2012-10-17',\n",
    "    'Statement': [{\n",
    "        'Sid': 'PublicReadGetObject',\n",
    "        'Effect': 'Allow',\n",
    "        'Principal': '*',\n",
    "        'Action': ['s3:GetObject', 's3:GetObjectVersion'],\n",
    "        'Resource': f'arn:aws:s3:::{bucket_name}/*'\n",
    "    }]\n",
    "}\n",
    "\n",
    "# Convert the policy from JSON dict to string\n",
    "bucket_policy = json.dumps(bucket_policy)\n",
    "\n",
    "# Set the new policy\n",
    "s3 = boto3.client('s3')\n",
    "s3.create_bucket(Bucket=bucket_name, ACL='public-read')\n",
    "s3.put_bucket_policy(Bucket=bucket_name, Policy=bucket_policy)"
   ]
  },
  {
   "cell_type": "markdown",
   "metadata": {},
   "source": [
    "## Create Apache web server instance with user data"
   ]
  },
  {
   "cell_type": "code",
   "execution_count": null,
   "metadata": {},
   "outputs": [],
   "source": [
    "ec2_key = boto3.connect_ec2()\n",
    "key = ec2_key = boto3.connect_ec2().create_key_pair('mynewkey')\n",
    "key.save('~/OneDrive/Academia/Cloud_comput/Key_pairs/')"
   ]
  },
  {
   "cell_type": "markdown",
   "metadata": {},
   "source": [
    "## Initialize Apache and SQL command line scripts"
   ]
  },
  {
   "cell_type": "code",
   "execution_count": 28,
   "metadata": {},
   "outputs": [],
   "source": [
    "APACHE_SCRIPT = \"\"\"#!/bin/bash\n",
    "  #sudo yum update -y\n",
    "  sudo yum install httpd -y\n",
    "  sudo service httpd start\n",
    "  sudo chkconfig httpd on\n",
    "  cd /var/www/html\n",
    "  echo \"<html><h1>This is Apache Web Server 01</h1></html>\" > index.html\n",
    "  sudo yum install mysql -y\n",
    "  \"\"\"\n",
    "\n",
    "SQLDB_SCRIPT = \"\"\"#!/bin/bash\n",
    "sudo yum update -y\n",
    "sudo yum install mysql-server -y\n",
    "sudo service mysqld start\n",
    "\"\"\""
   ]
  },
  {
   "cell_type": "markdown",
   "metadata": {},
   "source": [
    "## Create Apache web server"
   ]
  },
  {
   "cell_type": "code",
   "execution_count": 29,
   "metadata": {},
   "outputs": [
    {
     "name": "stdout",
     "output_type": "stream",
     "text": [
      "i-02ae2033b2216dd1a\n"
     ]
    }
   ],
   "source": [
    "# Create instance\n",
    "apache_server = ec2.create_instances(\n",
    "    ImageId='ami-0b0af3577fe5e3532', InstanceType='t2.micro', MaxCount=1, MinCount=1, KeyName='win_keypair',\n",
    "    NetworkInterfaces=[{'SubnetId': subnets[0].id, 'DeviceIndex': 0, 'AssociatePublicIpAddress': True, 'Groups': [frontend_sg.group_id]}],\n",
    "    UserData=APACHE_SCRIPT)\n",
    "\n",
    "#wait until apache is running to provide output\n",
    "apache_server[0].wait_until_running()\n",
    "\n",
    "print(apache_server[0].id)"
   ]
  },
  {
   "cell_type": "markdown",
   "metadata": {},
   "source": [
    "## Create MySQL database server"
   ]
  },
  {
   "cell_type": "code",
   "execution_count": 30,
   "metadata": {},
   "outputs": [
    {
     "name": "stdout",
     "output_type": "stream",
     "text": [
      "i-06aa1aac366d567d2\n"
     ]
    }
   ],
   "source": [
    "# Create MySQL instance and assign to back end security group\n",
    "sql_server = ec2.create_instances(\n",
    "    ImageId='ami-0b0af3577fe5e3532', InstanceType='t2.micro', MaxCount=1, MinCount=1, KeyName='win_keypair',\n",
    "    NetworkInterfaces=[{'SubnetId': subnets[1].id, 'DeviceIndex': 0, 'AssociatePublicIpAddress': True, 'Groups': [backend_sg.group_id]}],\n",
    "    UserData=SQLDB_SCRIPT)\n",
    "\n",
    "#wait until apache is running to provide output\n",
    "sql_server[0].wait_until_running()\n",
    "\n",
    "print(sql_server[0].id)"
   ]
  },
  {
   "cell_type": "markdown",
   "metadata": {},
   "source": [
    "## Destroy VPC"
   ]
  },
  {
   "cell_type": "code",
   "execution_count": null,
   "metadata": {},
   "outputs": [],
   "source": [
    "#!/usr/bin/env python\n",
    "#this portion was completely sourced from the github link below\n",
    "#https://gist.github.com/vernhart/c6a0fc94c0aeaebe84e5cd6f3dede4ce\n",
    "\n",
    "\"\"\"I was trying to programatically remove a Virtual Private Cloud (VPC) in\n",
    "AWS and the error message was not helpful:\n",
    "    botocore.exceptions.ClientError: An error occurred (DependencyViolation)\n",
    "    when calling the DeleteVpc operation: The vpc 'vpc-c12029b9' has\n",
    "    dependencies and cannot be deleted.\n",
    "Searching for a quick solution was not fruitful but I was able to glean some\n",
    "knowledge from Neil Swinton's gist:\n",
    "https://gist.github.com/neilswinton/d37787a8d84387c591ff365594bd26ed\n",
    "Using that, and some trial and error, I was able to develop this function\n",
    "that does all the cleanup necessary.\n",
    "Word of warning: This will delete the VPC and all instances/resources\n",
    "associated with it. As far as I know, this is complete. It's just like\n",
    "selecting Delete from the context menu on a VPC in the AWS Console except\n",
    "that this also deletes internet gateways that are attached to the VPC.\n",
    "\"\"\"\n",
    "\n",
    "\n",
    "def vpc_cleanup(vpcid):\n",
    "    \"\"\"Remove VPC from AWS\n",
    "    Set your region/access-key/secret-key from env variables or boto config.\n",
    "    :param vpcid: id of vpc to delete\n",
    "    \"\"\"\n",
    "    if not vpcid:\n",
    "        return\n",
    "    print('Removing VPC ({}) from AWS'.format(vpcid))\n",
    "    ec2 = boto3.resource('ec2')\n",
    "    ec2client = ec2.meta.client\n",
    "    vpc = ec2.Vpc(vpcid)\n",
    "    # detach and delete all gateways associated with the vpc\n",
    "    for gw in vpc.internet_gateways.all():\n",
    "        vpc.detach_internet_gateway(InternetGatewayId=gw.id)\n",
    "        gw.delete()\n",
    "    # delete all route table associations\n",
    "    for rt in vpc.route_tables.all():\n",
    "        for rta in rt.associations:\n",
    "            if not rta.main:\n",
    "                rta.delete()\n",
    "    # delete any instances\n",
    "    for subnet in vpc.subnets.all():\n",
    "        for instance in subnet.instances.all():\n",
    "            instance.terminate()\n",
    "    # delete our endpoints\n",
    "    for ep in ec2client.describe_vpc_endpoints(\n",
    "            Filters=[{\n",
    "                'Name': 'vpc-id',\n",
    "                'Values': [vpcid]\n",
    "            }])['VpcEndpoints']:\n",
    "        ec2client.delete_vpc_endpoints(VpcEndpointIds=[ep['VpcEndpointId']])\n",
    "    # delete our security groups\n",
    "    for sg in vpc.security_groups.all():\n",
    "        if sg.group_name != 'default':\n",
    "            sg.delete()\n",
    "    # delete any vpc peering connections\n",
    "    for vpcpeer in ec2client.describe_vpc_peering_connections(\n",
    "            Filters=[{\n",
    "                'Name': 'requester-vpc-info.vpc-id',\n",
    "                'Values': [vpcid]\n",
    "            }])['VpcPeeringConnections']:\n",
    "        ec2.VpcPeeringConnection(vpcpeer['VpcPeeringConnectionId']).delete()\n",
    "    # delete non-default network acls\n",
    "    for netacl in vpc.network_acls.all():\n",
    "        if not netacl.is_default:\n",
    "            netacl.delete()\n",
    "    # delete network interfaces\n",
    "    for subnet in vpc.subnets.all():\n",
    "        for interface in subnet.network_interfaces.all():\n",
    "            interface.delete()\n",
    "        subnet.delete()\n",
    "    # finally, delete the vpc\n",
    "    ec2client.delete_vpc(VpcId=vpcid)\n",
    "\n",
    "\n",
    "def main(argv=None):\n",
    "    vpc_cleanup(vpc.id)\n",
    "\n",
    "\n",
    "if __name__ == '__main__':\n",
    "    main(sys.argv)"
   ]
  },
  {
   "cell_type": "code",
   "execution_count": 48,
   "metadata": {},
   "outputs": [],
   "source": [
    "def destroy_ec2(vpc_id, aws_region):\n",
    "    logger.debug(f\"{vpc_id}\")\n",
    "    ec2 = boto3.resource(\"ec2\", region_name=aws_region)\n",
    "    ec2client = ec2.meta.client\n",
    "    # test for valid credentials\n",
    "    try:\n",
    "        ec2client.describe_vpcs()\n",
    "    except ClientError as e:\n",
    "        logging.info(e)\n",
    "        print(\n",
    "            \"Either your credentials are invalid or your IAM user doesn't have permissions to list VPCs\"\n",
    "        )\n",
    "        sys.exit(1)\n",
    "\n",
    "    if not vpc_exists(ec2client, vpc_id):\n",
    "        print(f\"VPC {vpc_id} does not exist in {aws_region}\")\n",
    "        return\n",
    "\n",
    "    vpc = ec2.Vpc(vpc_id)\n",
    "\n",
    "    # disassociate EIPs and release EIPs from EC2 instances\n",
    "    for subnet in vpc.subnets.all():\n",
    "        for instance in subnet.instances.all():\n",
    "            filters = [{\"Name\": \"instance-id\", \"Values\": [instance.id]}]\n",
    "            eips = ec2client.describe_addresses(Filters=filters)[\"Addresses\"]\n",
    "            for eip in eips:\n",
    "                ec2client.disassociate_address(AssociationId=eip[\"AssociationId\"])\n",
    "                ec2client.release_address(AllocationId=eip[\"AllocationId\"])\n",
    "\n",
    "    # delete instances\n",
    "    filters = [\n",
    "        {\"Name\": \"instance-state-name\", \"Values\": [\"running\"]},\n",
    "        {\"Name\": \"vpc-id\", \"Values\": [vpc_id]},\n",
    "    ]\n",
    "    ec2_instances = ec2client.describe_instances(Filters=filters)\n",
    "    instance_ids = []\n",
    "    for reservation in ec2_instances[\"Reservations\"]:\n",
    "        instance_ids += [\n",
    "            instance[\"InstanceId\"] for instance in reservation[\"Instances\"]\n",
    "        ]\n",
    "\n",
    "    logger.info(f\"instance deletion list: {instance_ids}\")\n",
    "    if instance_ids:\n",
    "        logging.info(\"Waiting for instances to terminate\")\n",
    "        waiter = ec2client.get_waiter(\"instance_terminated\")\n",
    "        ec2client.terminate_instances(InstanceIds=instance_ids)\n",
    "        waiter.wait(InstanceIds=instance_ids)\n",
    "\n",
    "\n",
    "def destroy_services(vpc_id, aws_region, services):\n",
    "    services_map = {\"ec2\": destroy_ec2}\n",
    "\n",
    "    for service in services.split(\",\"):\n",
    "        try:\n",
    "            services_map[service](vpc_id, aws_region)\n",
    "        except KeyError:\n",
    "            logger.error(f\"destroying {service} not implemented\")\n",
    "\n",
    "\n",
    "def vpc_exists(ec2client, vpc_id):\n",
    "    try:\n",
    "        ec2client.describe_vpcs(VpcIds=[vpc_id])\n",
    "    except ClientError as e:\n",
    "        logging.info(e)\n",
    "        return False\n",
    "    return True\n",
    "\n",
    "\n",
    "def delete_vpc(vpc_id, aws_region, release_eips=False):\n",
    "    ec2 = boto3.resource(\"ec2\", region_name=aws_region)\n",
    "    ec2client = ec2.meta.client\n",
    "    if not vpc_exists(ec2client, vpc_id):\n",
    "        print(f\"VPC {vpc_id} does not exist in {aws_region}\")\n",
    "        return False\n",
    "\n",
    "    # Exit cleanly if user did to specify at command line to delete EC2 instances for\n",
    "    # a VPC with runnining instances\n",
    "    filters = [\n",
    "        {\"Name\": \"instance-state-name\", \"Values\": [\"running\"]},\n",
    "        {\"Name\": \"vpc-id\", \"Values\": [vpc_id]},\n",
    "    ]\n",
    "    if ec2client.describe_instances(Filters=filters)[\"Reservations\"]:\n",
    "        print(\n",
    "            f\"Running EC2 instances exist in {vpc_id}. Please use --services ec2 to invoke the program.\"\n",
    "        )\n",
    "        return False\n",
    "\n",
    "    vpc = ec2.Vpc(vpc_id)\n",
    "\n",
    "    # delete transit gateway attachment for this vpc\n",
    "    # note - this only handles vpc attachments, not vpn\n",
    "    for attachment in ec2client.describe_transit_gateway_attachments()[\n",
    "        \"TransitGatewayAttachments\"\n",
    "    ]:\n",
    "        if attachment[\"ResourceId\"] == vpc_id:\n",
    "            ec2client.delete_transit_gateway_vpc_attachment(\n",
    "                TransitGatewayAttachmentId=attachment[\"TransitGatewayAttachmentId\"]\n",
    "            )\n",
    "\n",
    "    # delete NAT Gateways\n",
    "    # attached ENIs are automatically deleted\n",
    "    # EIPs are disassociated but not released\n",
    "    filters = [{\"Name\": \"vpc-id\", \"Values\": [vpc_id]}]\n",
    "    for nat_gateway in ec2client.describe_nat_gateways(Filters=filters)[\"NatGateways\"]:\n",
    "        ec2client.delete_nat_gateway(NatGatewayId=nat_gateway[\"NatGatewayId\"])\n",
    "\n",
    "    # detach default dhcp_options if associated with the vpc\n",
    "    dhcp_options_default = ec2.DhcpOptions(\"default\")\n",
    "    if dhcp_options_default:\n",
    "        dhcp_options_default.associate_with_vpc(VpcId=vpc.id)\n",
    "\n",
    "    # delete any vpc peering connections\n",
    "    for vpc_peer in ec2client.describe_vpc_peering_connections()[\n",
    "        \"VpcPeeringConnections\"\n",
    "    ]:\n",
    "        if vpc_peer[\"AccepterVpcInfo\"][\"VpcId\"] == vpc_id:\n",
    "            ec2.VpcPeeringConnection(vpc_peer[\"VpcPeeringConnectionId\"]).delete()\n",
    "        if vpc_peer[\"RequesterVpcInfo\"][\"VpcId\"] == vpc_id:\n",
    "            ec2.VpcPeeringConnection(vpc_peer[\"VpcPeeringConnectionId\"]).delete()\n",
    "\n",
    "    # delete our endpoints\n",
    "    for ep in ec2client.describe_vpc_endpoints(\n",
    "        Filters=[{\"Name\": \"vpc-id\", \"Values\": [vpc_id]}]\n",
    "    )[\"VpcEndpoints\"]:\n",
    "        ec2client.delete_vpc_endpoints(VpcEndpointIds=[ep[\"VpcEndpointId\"]])\n",
    "\n",
    "    # delete custom security groups\n",
    "    for sg in vpc.security_groups.all():\n",
    "        if sg.group_name != \"default\":\n",
    "            sg.delete()\n",
    "\n",
    "    # delete custom NACLs\n",
    "    for netacl in vpc.network_acls.all():\n",
    "        if not netacl.is_default:\n",
    "            netacl.delete()\n",
    "\n",
    "    # ensure ENIs are deleted before proceding\n",
    "    timeout = time.time() + 300\n",
    "    filter = [{\"Name\": \"vpc-id\", \"Values\": [vpc_id]}]\n",
    "    logger.debug(f\"proceed with deleting ENIs\")\n",
    "    reached_timeout = True\n",
    "    while time.time() < timeout:\n",
    "        if not ec2client.describe_network_interfaces(Filters=filters)[\n",
    "            \"NetworkInterfaces\"\n",
    "        ]:\n",
    "            logger.info(f\"no ENIs remaining\")\n",
    "            reached_timeout = False\n",
    "            break\n",
    "        else:\n",
    "            logger.info(f\"waiting on ENIs to delete\")\n",
    "            time.sleep(30)\n",
    "\n",
    "    if reached_timeout:\n",
    "        logger.debug(f\"ENI deletion timed out\")\n",
    "\n",
    "    # delete subnets\n",
    "    for subnet in vpc.subnets.all():\n",
    "        for interface in subnet.network_interfaces.all():\n",
    "            interface.delete()\n",
    "        subnet.delete()\n",
    "\n",
    "    # Delete routes, associations, and routing tables\n",
    "    filter = [{\"Name\": \"vpc-id\", \"Values\": [vpc_id]}]\n",
    "    route_tables = ec2client.describe_route_tables(Filters=filter)[\"RouteTables\"]\n",
    "    for route_table in route_tables:\n",
    "        for route in route_table[\"Routes\"]:\n",
    "            if route[\"Origin\"] == \"CreateRoute\":\n",
    "                ec2client.delete_route(\n",
    "                    RouteTableId=route_table[\"RouteTableId\"],\n",
    "                    DestinationCidrBlock=route[\"DestinationCidrBlock\"],\n",
    "                )\n",
    "            for association in route_table[\"Associations\"]:\n",
    "                if not association[\"Main\"]:\n",
    "                    ec2client.disassociate_route_table(\n",
    "                        AssociationId=association[\"RouteTableAssociationId\"]\n",
    "                    )\n",
    "                    ec2client.delete_route_table(\n",
    "                        RouteTableId=route_table[\"RouteTableId\"]\n",
    "                    )\n",
    "    # delete routing tables without associations\n",
    "    for route_table in route_tables:\n",
    "        if route_table[\"Associations\"] == []:\n",
    "            ec2client.delete_route_table(RouteTableId=route_table[\"RouteTableId\"])\n",
    "\n",
    "    # destroy NAT gateways\n",
    "    filters = [{\"Name\": \"vpc-id\", \"Values\": [vpc_id]}]\n",
    "    nat_gateway_ids = [\n",
    "        nat_gateway[\"NatGatewayId\"]\n",
    "        for nat_gateway in ec2client.describe_nat_gateways(Filters=filters)[\n",
    "            \"NatGateways\"\n",
    "        ]\n",
    "    ]\n",
    "    for nat_gateway_id in nat_gateway_ids:\n",
    "        ec2client.delete_nat_gateway(NatGatewayId=nat_gateway_id)\n",
    "\n",
    "    # detach and delete all IGWs associated with the vpc\n",
    "    for gw in vpc.internet_gateways.all():\n",
    "        vpc.detach_internet_gateway(InternetGatewayId=gw.id)\n",
    "        gw.delete()\n",
    "\n",
    "    ec2client.delete_vpc(VpcId=vpc_id)\n",
    "    return True\n",
    "\n",
    "\n",
    "# logger.info(f\"calling delete_vpc with {vpc_id}\")\n",
    "# if delete_vpc(vpc_id=vpc_id, aws_region=aws_region, release_eips=False):\n",
    "#     print(f\"destroyed {vpc_id} in {aws_region}\")\n",
    "# else:\n",
    "#     print(f\"unable to destroy {vpc_id} in {aws_region}\")"
   ]
  },
  {
   "cell_type": "code",
   "execution_count": 49,
   "metadata": {},
   "outputs": [
    {
     "name": "stderr",
     "output_type": "stream",
     "text": [
      "2022-04-13 21:29:12,409: INFO: instance deletion list: ['i-02ae2033b2216dd1a', 'i-06aa1aac366d567d2']\n",
      "2022-04-13 21:29:12,410: INFO: Waiting for instances to terminate\n"
     ]
    }
   ],
   "source": [
    "destroy_ec2(\"vpc-0bab92006ed749103\", REGION)\n",
    "\n"
   ]
  },
  {
   "cell_type": "code",
   "execution_count": 50,
   "metadata": {},
   "outputs": [
    {
     "name": "stderr",
     "output_type": "stream",
     "text": [
      "2022-04-13 21:30:00,028: INFO: waiting on ENIs to delete\n",
      "2022-04-13 21:30:30,164: INFO: waiting on ENIs to delete\n",
      "2022-04-13 21:31:00,417: INFO: waiting on ENIs to delete\n",
      "2022-04-13 21:31:30,574: INFO: waiting on ENIs to delete\n",
      "2022-04-13 21:32:00,701: INFO: waiting on ENIs to delete\n",
      "2022-04-13 21:32:30,818: INFO: waiting on ENIs to delete\n",
      "2022-04-13 21:33:00,998: INFO: no ENIs remaining\n"
     ]
    },
    {
     "data": {
      "text/plain": [
       "True"
      ]
     },
     "execution_count": 50,
     "metadata": {},
     "output_type": "execute_result"
    }
   ],
   "source": [
    "delete_vpc(\"vpc-0bab92006ed749103\", REGION, release_eips=False)"
   ]
  }
 ],
 "metadata": {
  "interpreter": {
   "hash": "cecacdee79960deaff6922620289fbba3512fa0446a24cb89739189e06ed7e98"
  },
  "kernelspec": {
   "display_name": "Python 3.9.2 64-bit",
   "language": "python",
   "name": "python3"
  },
  "language_info": {
   "codemirror_mode": {
    "name": "ipython",
    "version": 3
   },
   "file_extension": ".py",
   "mimetype": "text/x-python",
   "name": "python",
   "nbconvert_exporter": "python",
   "pygments_lexer": "ipython3",
   "version": "3.9.2"
  },
  "orig_nbformat": 4
 },
 "nbformat": 4,
 "nbformat_minor": 2
}
